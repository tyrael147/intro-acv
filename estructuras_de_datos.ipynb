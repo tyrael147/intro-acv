{
 "cells": [
  {
   "cell_type": "markdown",
   "id": "e6efc221",
   "metadata": {},
   "source": [
    "# Introducción\n",
    "En esta primera sección introductoria aprenderemos los conceptos básicos de variables y tipos de datos en Python.\n",
    "Para ejecutar este archivo correctamente, asegúrate de instalar las dependencias necesarias ejecutando el siguiente codigo."
   ]
  },
  {
   "cell_type": "code",
   "execution_count": null,
   "id": "071d85ec",
   "metadata": {},
   "outputs": [],
   "source": [
    "!pip install brightway25"
   ]
  },
  {
   "cell_type": "markdown",
   "id": "1641873e",
   "metadata": {},
   "source": [
    "\n",
    "Este cuaderno de Jupyter (`*.ipynb`) nos permite ejecutar código celda por celda de forma interactiva, a diferencia de los archivos Python (con extensión .py) donde el código se ejecuta en un solo paso ([más información aquí](https://jupyterlab.readthedocs.io/en/stable/user/notebook.html)).\n"
   ]
  },
  {
   "cell_type": "markdown",
   "id": "0c7a5bdf",
   "metadata": {},
   "source": [
    "## Variables\n",
    "\n",
    "Las variables son nombres simbólicos que apuntan a objetos en memoria.\n",
    "En otras palabras, están conectadas a un valor, que son los datos asociados a la variable respectiva.\n",
    "Las variables se pueden crear usando el operador de asignación (`=`).\n",
    "\n",
    "<div class=\"alert alert-block alert-info\"><b>Consejo: </b>Ejecuta celdas con `Ctrl+Enter`, o ejecuta y avanza a la siguiente con `Shift+Enter`</div>\n",
    "\n",
    "<div class=\"alert alert-block alert-info\"><b>Consejo: </b>Si no deseas ejecutar una línea, coméntala anteponiendo `#`</div>\n"
   ]
  },
  {
   "cell_type": "code",
   "execution_count": null,
   "id": "8db2f72d",
   "metadata": {},
   "outputs": [],
   "source": [
    "# Esta línea es un comentario\n",
    "# Asignamos un string a la variable 'message'\n",
    "message = \"¡Hola a todos!\"\n",
    "# Asignamos un entero a la variable 'number'\n",
    "number = 42.0\n",
    "print(\"El mensaje es: \", message)\n",
    "print(\"El número es: \", number)"
   ]
  },
  {
   "cell_type": "markdown",
   "id": "f00865ae",
   "metadata": {},
   "source": [
    "Podemos verificar los tipos de datos usando la función type(). Esta función devuelve la clase del objeto."
   ]
  },
  {
   "cell_type": "code",
   "execution_count": null,
   "id": "87aa0d57",
   "metadata": {},
   "outputs": [],
   "source": [
    "print(\"Tipo de 'message': \",type(message))\n",
    "print(\"Tipo de 'number': \", type(number))"
   ]
  },
  {
   "cell_type": "markdown",
   "id": "88db28c3",
   "metadata": {},
   "source": [
    "Tanto 'message' como 'number' tienen su propia dirección en la memoria del computador.\n",
    "Para acceder a esta dirección, podemos usar la función incorporada `id()`.\n",
    "Esta función devuelve la \"identidad\" de un objeto. Este `id` es un entero único que permanece constante durante la vida del intérprete."
   ]
  },
  {
   "cell_type": "code",
   "execution_count": null,
   "id": "b6c7885c",
   "metadata": {},
   "outputs": [],
   "source": [
    "id(message)"
   ]
  },
  {
   "cell_type": "code",
   "execution_count": null,
   "id": "c424df98",
   "metadata": {},
   "outputs": [],
   "source": [
    "print('Dirección de \"message\": ', hex(id(message)))\n",
    "print('Dirección de \"number\": ', hex(id(number)))"
   ]
  },
  {
   "cell_type": "markdown",
   "id": "a9b3dc9e",
   "metadata": {},
   "source": [
    "Si asignamos la variable 'message' a una nueva variable 'new_message', esta última apuntará a la dirección de los datos originales."
   ]
  },
  {
   "cell_type": "code",
   "execution_count": null,
   "id": "5eb91107",
   "metadata": {
    "lines_to_next_cell": 2
   },
   "outputs": [],
   "source": [
    "new_message = message # Reasignamos nuevamente\n",
    "print('Dirección de \"message\": ', hex(id(message)))\n",
    "print('Dirección de \"new_message\": ', hex(id(new_message)))"
   ]
  },
  {
   "cell_type": "markdown",
   "id": "d58eb08d",
   "metadata": {},
   "source": [
    "Al crear variables, debemos considerar ciertas reglas y convenciones.\n",
    "<div class=\"alert alert-block alert-warning\"><b>Advertencia: </b>Los nombres solo pueden contener letras, números y guiones bajos. Pueden comenzar con letra o guión bajo, pero nunca con número</div>\n"
   ]
  },
  {
   "cell_type": "code",
   "execution_count": null,
   "id": "a72d6211",
   "metadata": {},
   "outputs": [],
   "source": [
    "1_message = \"hola\" # Esto no funciona"
   ]
  },
  {
   "cell_type": "markdown",
   "id": "d6b7876b",
   "metadata": {},
   "source": [
    "<div class=\"alert alert-block alert-warning\"><b>Advertencia: </b>No se permiten espacios en los nombres.</div>\n"
   ]
  },
  {
   "cell_type": "code",
   "execution_count": null,
   "id": "835ad707",
   "metadata": {},
   "outputs": [],
   "source": [
    "mi variable = 1 # Esto no funciona"
   ]
  },
  {
   "cell_type": "code",
   "execution_count": null,
   "id": "7c8ef104",
   "metadata": {},
   "outputs": [],
   "source": [
    "mi_variable = 1 # Esto sí funciona"
   ]
  },
  {
   "cell_type": "markdown",
   "id": "e0095f68",
   "metadata": {},
   "source": [
    "<div class=\"alert alert-block alert-warning\"><b>Advertencia: </b>Existen palabras reservadas de Python que deben evitarse (ver aquí: https://docs.python.org/3/library/functions.html) </div>\n"
   ]
  },
  {
   "cell_type": "code",
   "execution_count": null,
   "id": "a35c333b",
   "metadata": {},
   "outputs": [],
   "source": [
    "# print = 12 # Esto debe evitarse\n",
    "# print() # Esto no funcionaría"
   ]
  },
  {
   "cell_type": "code",
   "execution_count": null,
   "id": "3000f149",
   "metadata": {},
   "outputs": [],
   "source": [
    "# from rich import print # arreglamos el error"
   ]
  },
  {
   "cell_type": "code",
   "execution_count": null,
   "id": "6deae9b5",
   "metadata": {},
   "outputs": [],
   "source": [
    "print(\"hola mundo\")"
   ]
  },
  {
   "cell_type": "markdown",
   "id": "9dfbd0a9",
   "metadata": {},
   "source": [
    "<div class=\"alert alert-block alert-info\"><b>Consejo: </b>Usa nombres cortos pero descriptivos</div>\n"
   ]
  },
  {
   "cell_type": "code",
   "execution_count": null,
   "id": "043cbd9d",
   "metadata": {},
   "outputs": [],
   "source": [
    "n=\"Juan\" # No recomendado\n",
    "nombre=\"Juan\" # Mejor\n",
    "longitud_del_nombre_de_la_persona = 23 # No recomendado\n",
    "longitud_nombre = 23 # Mejor"
   ]
  },
  {
   "cell_type": "code",
   "execution_count": null,
   "id": "fb98c173",
   "metadata": {},
   "outputs": [],
   "source": [
    "print(longitud_nombre)"
   ]
  },
  {
   "cell_type": "markdown",
   "id": "c8237a0e",
   "metadata": {},
   "source": [
    "<div class=\"alert alert-block alert-danger\"><b>¡Peligro!: </b>El error más común al programar son las faltas de tipográficas al llamar variables. Afortunadamente, Python ayuda a identificar estos errores</div>\n"
   ]
  },
  {
   "cell_type": "code",
   "execution_count": null,
   "id": "5f597bf9",
   "metadata": {},
   "outputs": [],
   "source": [
    "mi_mensaje = \"Este es mi mensaje\"\n",
    "print(mi_mnsaje) # Esto debería dar un NameError, 'mi_mensaje' no está definido por un error tipográfico."
   ]
  },
  {
   "cell_type": "markdown",
   "id": "150c258a",
   "metadata": {},
   "source": [
    "# Tipos de datos básicos\n",
    "## Cadenas de texto (Strings)\n",
    "Son secuencias de caracteres que se pueden crear usando comillas simples o dobles. Cualquier contenido dentro de comillas se considera una cadena."
   ]
  },
  {
   "cell_type": "code",
   "execution_count": null,
   "id": "fc0a3e61",
   "metadata": {},
   "outputs": [],
   "source": [
    "from rich import print"
   ]
  },
  {
   "cell_type": "code",
   "execution_count": null,
   "id": "c99a0682",
   "metadata": {
    "lines_to_next_cell": 2
   },
   "outputs": [],
   "source": [
    "print('Esto es una cadena')  \n",
    "print(\"Esto también es una cadena\")"
   ]
  },
  {
   "cell_type": "markdown",
   "id": "24f7d53d",
   "metadata": {},
   "source": [
    "Podemos incluir cualquier tipo de carácter en una cadena. Sin embargo, en algunos casos queremos dar un significado especial a un carácter o suprimir su significado.\n",
    "Para estas situaciones, usamos el carácter de escape `\\` antes del carácter especial."
   ]
  },
  {
   "cell_type": "code",
   "execution_count": null,
   "id": "ef709975",
   "metadata": {},
   "outputs": [],
   "source": [
    "print(\"Esta es una comilla doble: \\\" \")"
   ]
  },
  {
   "cell_type": "code",
   "execution_count": null,
   "id": "b0a05f07",
   "metadata": {},
   "outputs": [],
   "source": [
    "# Escapando comillas simples\n",
    "print(\"Las comillas dobles (\\\") son importantes para construir cadenas\")"
   ]
  },
  {
   "cell_type": "code",
   "execution_count": null,
   "id": "0b80dc76",
   "metadata": {},
   "outputs": [],
   "source": [
    "print(\"Esta es la letra \\t tabulador\")"
   ]
  },
  {
   "cell_type": "markdown",
   "id": "048d5cd3",
   "metadata": {},
   "source": [
    "Existen otras secuencias de escape con significados especiales en Python:\n",
    "\n",
    "| Secuencia Escape  | \tSignificado                 |\n",
    "|--------------------|-------------------------------|\n",
    "| \\a               |\tCarácter de campana ASCII (BEL) |\n",
    "| \\b |\tCarácter de retroceso ASCII (BS) |\n",
    "|\\f |\tCarácter de avance de página ASCII (FF)|\n",
    "|\\n | Carácter de salto de línea ASCII (LF)|\n",
    "|\\N{<nombre>} |\tCarácter Unicode con <nombre> especificado|\n",
    "|\\r | \tCarácter de retorno de carro ASCII (CR)|\n",
    "|\\t \t| Tabulación horizontal ASCII (TAB)|\n",
    "|\\uxxxx \t| Carácter Unicode con valor hexadecimal de 16 bits|\n",
    "|\\Uxxxxxxxx \t| Carácter Unicode con valor hexadecimal de 32 bits|\n",
    "|\\v | \tTabulación vertical ASCII (VT)|\n",
    "|\\ooo |\tCarácter con valor octal|\n",
    "|\\xhh \t| Carácter con valor hexadecimal|\n"
   ]
  },
  {
   "cell_type": "code",
   "execution_count": null,
   "id": "95a92006",
   "metadata": {},
   "outputs": [],
   "source": [
    "print(\"Tendremos una nueva línea \\ndespués de la línea inicial\")  # Dos líneas"
   ]
  },
  {
   "cell_type": "code",
   "execution_count": null,
   "id": "c4ab6503",
   "metadata": {},
   "outputs": [],
   "source": [
    "print(\"Esto introduce el \\ttabulador en la cadena\")  # Se introduce una tabulación"
   ]
  },
  {
   "cell_type": "code",
   "execution_count": null,
   "id": "b002f3eb",
   "metadata": {},
   "outputs": [],
   "source": [
    "print(\"\\x61\")  # Hexadecimal"
   ]
  },
  {
   "cell_type": "code",
   "execution_count": null,
   "id": "a3a8e060",
   "metadata": {},
   "outputs": [],
   "source": [
    "print(\"\\N{White Smiling Face}\")  # Unicode por nombre"
   ]
  },
  {
   "cell_type": "code",
   "execution_count": null,
   "id": "42d4b15d",
   "metadata": {},
   "outputs": [],
   "source": [
    "happy = \"\\N{White Smiling Face}\""
   ]
  },
  {
   "cell_type": "code",
   "execution_count": null,
   "id": "ac386f58",
   "metadata": {},
   "outputs": [],
   "source": [
    "print(\"Porque yo soy...\", happy)"
   ]
  },
  {
   "cell_type": "markdown",
   "id": "0e22cf3b",
   "metadata": {},
   "source": [
    "Podemos usar comillas simples y dobles para crear cadenas que contengan comillas internas."
   ]
  },
  {
   "cell_type": "code",
   "execution_count": null,
   "id": "c5754ac7",
   "metadata": {},
   "outputs": [],
   "source": [
    "print(\"Y la policía dijo: '¡Deténgase allí, tonto!'\")"
   ]
  },
  {
   "cell_type": "code",
   "execution_count": null,
   "id": "7c7ffc3f",
   "metadata": {},
   "outputs": [],
   "source": [
    "print('Y la policía dijo: \"¡Deténgase allí, tonto!\"')"
   ]
  },
  {
   "cell_type": "markdown",
   "id": "cc06c4ee",
   "metadata": {},
   "source": [
    "Podemos formatear cadenas insertando datos de variables usando f-strings (f de formato). Útil para crear cadenas complejas."
   ]
  },
  {
   "cell_type": "code",
   "execution_count": null,
   "id": "e1fccb06",
   "metadata": {},
   "outputs": [],
   "source": [
    "candidate = \"Gustavo\"\n",
    "score = 100.2\n",
    "print(f\"El candidato {candidate} obtuvo una puntuación de: {score}\")"
   ]
  },
  {
   "cell_type": "code",
   "execution_count": null,
   "id": "c0fc6e30",
   "metadata": {},
   "outputs": [],
   "source": [
    "print(f\"Porque yo soy {happy}\")"
   ]
  },
  {
   "cell_type": "markdown",
   "id": "c7bdeb9a",
   "metadata": {},
   "source": [
    "Podemos obtener la longitud de una cadena con `len` y acceder a caracteres con corchetes `[]`"
   ]
  },
  {
   "cell_type": "code",
   "execution_count": null,
   "id": "1be998a5",
   "metadata": {},
   "outputs": [],
   "source": [
    "my_string = 'Esta es mi increíble cadena'\n",
    "print(len(my_string))\n",
    "print(my_string[3])  # Acceder al carácter en índice 3"
   ]
  },
  {
   "cell_type": "markdown",
   "id": "fb73e23c",
   "metadata": {},
   "source": [
    "Los corchetes también sirven para rebanar cadenas, misma lógica que en listas."
   ]
  },
  {
   "cell_type": "code",
   "execution_count": null,
   "id": "b8bd06f0",
   "metadata": {},
   "outputs": [],
   "source": [
    "print(my_string[6:])  # Desde índice 6 hasta el final"
   ]
  },
  {
   "cell_type": "code",
   "execution_count": null,
   "id": "1ccd8eb4",
   "metadata": {},
   "outputs": [],
   "source": [
    "print(my_string[-9:])  # Desde la posición 9 contando desde el final"
   ]
  },
  {
   "cell_type": "markdown",
   "id": "c1b81d28",
   "metadata": {},
   "source": [
    "Podemos usar operadores `in` y `not in` para verificar contención"
   ]
  },
  {
   "cell_type": "code",
   "execution_count": null,
   "id": "1e355050",
   "metadata": {},
   "outputs": [],
   "source": [
    "long_string = \"Abel, Luis y María vinieron a la fiesta\"\n",
    "print(\"Luis\" in long_string)\n",
    "print(\"Roberta\" in long_string)"
   ]
  },
  {
   "cell_type": "markdown",
   "id": "ca39b481",
   "metadata": {},
   "source": [
    "Operadores como `+` y `*` permiten concatenación y repetición:"
   ]
  },
  {
   "cell_type": "code",
   "execution_count": null,
   "id": "6601a005",
   "metadata": {},
   "outputs": [],
   "source": [
    "# Concatenación\n",
    "first_string=\"La respuesta es \"\n",
    "second_string = \"cuarenta y dos (42)\"\n",
    "third_string = \"... Confía en mí\"\n",
    "answer = first_string + second_string + third_string + \" !!!\"\n",
    "print(answer)"
   ]
  },
  {
   "cell_type": "code",
   "execution_count": null,
   "id": "5d3b6736",
   "metadata": {},
   "outputs": [],
   "source": [
    "# Repetición\n",
    "first_string  = \"Y él simplemente dijo... \"\n",
    "second_string = \"JA \" * 6  # JA JA JA JA JA JA\n",
    "repeated = first_string + second_string\n",
    "print(repeated)"
   ]
  },
  {
   "cell_type": "code",
   "execution_count": null,
   "id": "6a66f5e4",
   "metadata": {},
   "outputs": [],
   "source": [
    "car = \"esto\"\n",
    "type(car)"
   ]
  },
  {
   "cell_type": "markdown",
   "id": "e40b8b90",
   "metadata": {},
   "source": [
    "Los strings son objetos de clase `str` con métodos propios.\n",
    "\n",
    "example = \"hola a mi pequeño mundo\"\n",
    "example_version_2 = (example.title())\n",
    "print(example_version_2)"
   ]
  },
  {
   "cell_type": "code",
   "execution_count": null,
   "id": "5cf6e64b",
   "metadata": {},
   "outputs": [],
   "source": [
    "message = \"¡Hola MUNDO!, Me siento avergonzado\"\n",
    "print(message)\n",
    "print(message.title())  # Capitalizar cada palabra\n",
    "print(message.upper())  # Mayúsculas\n",
    "print(message.lower())  # Minúsculas\n",
    "print(message.swapcase())  # Invertir mayúsculas/minúsculas\n",
    "print(message.startswith(\"Hola\"))  # Verificar inicio\n",
    "print(message.startswith(\"hola\"))"
   ]
  },
  {
   "cell_type": "code",
   "execution_count": null,
   "id": "49ce0b1a",
   "metadata": {},
   "outputs": [],
   "source": [
    "# Eliminar espacios en blanco o prefijos\n",
    "message = \"   https://helloworld.com   \"\n",
    "print(message.strip())  # Eliminar espacios"
   ]
  },
  {
   "cell_type": "code",
   "execution_count": null,
   "id": "90719ece",
   "metadata": {},
   "outputs": [],
   "source": [
    "# Métodos encadenados\n",
    "message = \"   https://helloworld.com   \"\n",
    "print(message.strip().removeprefix('https://'))"
   ]
  },
  {
   "cell_type": "code",
   "execution_count": null,
   "id": "3e4118ac",
   "metadata": {},
   "outputs": [],
   "source": [
    "# Reemplazar subcadenas\n",
    "message = \"BMW es una marca de vehículos\"\n",
    "print(message.replace(\"BMW\", \"VW\"))"
   ]
  },
  {
   "cell_type": "code",
   "execution_count": null,
   "id": "280ae512",
   "metadata": {},
   "outputs": [],
   "source": [
    "# Dividir cadenas usando separadores\n",
    "message = \"Augusto,Julia,Karl\"\n",
    "print(message.split(\",\"))"
   ]
  },
  {
   "cell_type": "code",
   "execution_count": null,
   "id": "f3020fef",
   "metadata": {},
   "outputs": [],
   "source": [
    "# Unir elementos de una lista\n",
    "message = \"Augusto,Julia,Karl\"\n",
    "message_separated = message.split(\",\")\n",
    "print(f\"{happy}\".join(message_separated))"
   ]
  },
  {
   "cell_type": "markdown",
   "id": "d1b8bc87",
   "metadata": {},
   "source": [
    "### Ejercicio:\n",
    "#### Tu software recibe mensajes con datos de clientes en formato incorrecto:\n",
    "\n",
    "    https://database.com/user/augustom,AugUSto Martin, 23, Approved,,\n",
    "    https://database.com/user/juliasch,JuLIA SchmidT, 67, rejected,,\n",
    "    https://database.com/user/kmarx,Karl Marx, 42, rejected,,\n",
    "\n",
    "#### Se necesita procesar en este formato:\n",
    "\n",
    "    message:  augustom,augustomartin,23,approved\n",
    "    message:  juliasch,juliaschmidt,67,rejected\n",
    "    message:  kmarx,karlmarx,42,rejected\n",
    "\n",
    "#### __Tarea__: Usar métodos de `str` para corregir los mensajes."
   ]
  },
  {
   "cell_type": "markdown",
   "id": "0d490a06",
   "metadata": {
    "lines_to_next_cell": 2
   },
   "source": [
    "Completa el código"
   ]
  },
  {
   "cell_type": "markdown",
   "id": "2fa59d5c",
   "metadata": {},
   "source": [
    "## Números\n",
    "Enteros y flotantes. Operadores aritméticos: `+`, `-`, `*`, `/`, etc."
   ]
  },
  {
   "cell_type": "code",
   "execution_count": null,
   "id": "f238d12c",
   "metadata": {},
   "outputs": [],
   "source": [
    "2 * 3 + 2  # Expresión que retorna 8"
   ]
  },
  {
   "cell_type": "code",
   "execution_count": null,
   "id": "a24275e1",
   "metadata": {},
   "outputs": [],
   "source": [
    "# Variables con números\n",
    "pi = 3.1416\n",
    "radio = 2\n",
    "print(2 * pi * radio )"
   ]
  },
  {
   "cell_type": "markdown",
   "id": "ed868174",
   "metadata": {},
   "source": [
    "Operadores aritméticos:\n",
    "|Operador |\tNombre      |\tEjemplo|\n",
    "|---------|-------------|---------|\n",
    "|+ \t    |Suma         |\tx + y \t|\n",
    "|- \t    |Resta        |\tx - y   |\n",
    "|* \t    |Multiplicación |x * y |\n",
    "|/ \t    |División     |\tx / y \t|\n",
    "|% \t    |Módulo       |\tx % y \t|\n",
    "|** \t    |Exponenciación |\tx ** |\n",
    "|// \t    |División entera |\tx // y|"
   ]
  },
  {
   "cell_type": "code",
   "execution_count": null,
   "id": "20679be8",
   "metadata": {},
   "outputs": [],
   "source": [
    "print('Suma: ', 2+3)\n",
    "print('Resta: ',2-3)\n",
    "print('Multiplicación: ',2*3)\n",
    "print('División: ',2/3)\n",
    "print('Módulo: ',10%3)\n",
    "print('Exponenciación: ',2**3)\n",
    "print('División entera: ',10//3)"
   ]
  },
  {
   "cell_type": "code",
   "execution_count": null,
   "id": "afb7f680",
   "metadata": {},
   "outputs": [],
   "source": [
    "# Funciones incorporadas para números\n",
    "print(\"Redondear: \", round(3.5))\n",
    "print(\"Valor absoluto: \", abs(-3.8))\n",
    "print(\"Potencia: \", pow(2,3))"
   ]
  },
  {
   "cell_type": "markdown",
   "id": "2700584e",
   "metadata": {},
   "source": [
    "### Ejercicio:\n",
    "#### __Tarea__: Calcular la longitud de arco de un ángulo\n",
    "#### Resultado esperado:\n",
    "#### Diámetro del círculo: 9\n",
    "#### Ángulo: 45\n",
    "#### Longitud de arco: 3.5357142857142856"
   ]
  },
  {
   "cell_type": "markdown",
   "id": "01d78254",
   "metadata": {
    "lines_to_next_cell": 2
   },
   "source": [
    "## Listas\n",
    "\n",
    "Las listas son estructuras de datos que permiten almacenar conjuntos de información en un solo lugar.\n",
    "- Una lista es una colección de elementos en un __orden particular__.\n",
    "- Una lista puede contener cualquier tipo de objeto, desde números, cadenas, hasta clases más complejas, o incluso otras listas.\n",
    "- En Python, las listas se crean utilizando el operador de corchetes `[]`, la función `list()`, o una list comprehension.\n",
    "- Las listas pueden aumentar o disminuir de tamaño dinámicamente."
   ]
  },
  {
   "cell_type": "code",
   "execution_count": null,
   "id": "49086863",
   "metadata": {},
   "outputs": [],
   "source": [
    "my_list = [1,2,3,4]\n",
    "print(my_list)\n",
    "print(\"Tipo de objeto: \", type(my_list))"
   ]
  },
  {
   "cell_type": "code",
   "execution_count": null,
   "id": "8aa1e7ce",
   "metadata": {},
   "outputs": [],
   "source": [
    "# Constructor list()\n",
    "print(list([1,2,3,4]))\n",
    "print(list(\"Hello World!\"))"
   ]
  },
  {
   "cell_type": "code",
   "execution_count": null,
   "id": "97541cbb",
   "metadata": {},
   "outputs": [],
   "source": [
    "# Listas con múltiples tipos\n",
    "print([1, 2.0, 'Juan'])"
   ]
  },
  {
   "cell_type": "code",
   "execution_count": null,
   "id": "fad83e48",
   "metadata": {},
   "outputs": [],
   "source": [
    "# Indexación y rebanado\n",
    "my_list = [1,34,56,6,93,12,45,67]\n",
    "print(my_list[2])\n",
    "print(my_list[5:])\n",
    "print(my_list[-2:])"
   ]
  },
  {
   "cell_type": "markdown",
   "id": "8d2ca110",
   "metadata": {},
   "source": [
    "Una vez accedidos, los valores de una lista pueden utilizarse en otras funciones\n"
   ]
  },
  {
   "cell_type": "code",
   "execution_count": null,
   "id": "d9abdccd",
   "metadata": {},
   "outputs": [],
   "source": [
    "brands = [\"BMW\", \"VW\", \"Renault\"]\n",
    "print(f\"La marca que más me gusta es {brands[2]}\")"
   ]
  },
  {
   "cell_type": "markdown",
   "id": "cc369cff",
   "metadata": {},
   "source": [
    "Elementos nuevos pueden agregarse a una lista utilizando el metodo `.append()`."
   ]
  },
  {
   "cell_type": "code",
   "execution_count": null,
   "id": "10d86893",
   "metadata": {
    "lines_to_next_cell": 2
   },
   "outputs": [],
   "source": [
    "# Añadir elementos\n",
    "brands = [\"BMW\", \"VW\"]\n",
    "print(f'Marcas antes de append: {brands}')\n",
    "brands.append('Renault')\n",
    "print(f'Marcas despues de append: {brands}')"
   ]
  },
  {
   "cell_type": "markdown",
   "id": "5299aae6",
   "metadata": {},
   "source": [
    "Los elementos de una lista pueden modificarse después de acceder al elemento mediante el operador de corchetes y asignar un nuevo valor a dicho elemento."
   ]
  },
  {
   "cell_type": "code",
   "execution_count": null,
   "id": "74b19e14",
   "metadata": {},
   "outputs": [],
   "source": [
    "brands = [\"BMW\", \"VW\", \"Renault\"]\n",
    "brands[0] = 'Porsche'\n",
    "print(brands)"
   ]
  },
  {
   "cell_type": "code",
   "execution_count": null,
   "id": "3da34e67",
   "metadata": {},
   "outputs": [],
   "source": [
    "# Usando del\n",
    "brands = [\"BMW\", \"VW\", \"Renault\"]\n",
    "print('Antes de del: ', brands)\n",
    "del brands[0]\n",
    "print('Despues de del: ', brands)"
   ]
  },
  {
   "cell_type": "code",
   "execution_count": null,
   "id": "7e1d8f4b",
   "metadata": {
    "lines_to_next_cell": 2
   },
   "outputs": [],
   "source": [
    "# Usando pop()\n",
    "# pop(i) extrae los elementos de indice `i` y devuelve y el valor correspondiente.\n",
    "brands = [\"BMW\", \"VW\", \"Renault\"]\n",
    "print('Antes de pop: ', brands)\n",
    "popped_brand = brands.pop(0)\n",
    "print('Marca removida: ', popped_brand)\n",
    "print('Despues de pop: ', brands)"
   ]
  },
  {
   "cell_type": "code",
   "execution_count": null,
   "id": "220671fb",
   "metadata": {},
   "outputs": [],
   "source": [
    "# Los elementos de la lista pueden tambien removerse con `remove()`.\n",
    "brands = [\"BMW\", \"VW\", \"Renault\"]\n",
    "print('Antes de remove: ', brands)\n",
    "brands.remove('BMW')\n",
    "print('Despues de remove: ', brands)"
   ]
  },
  {
   "cell_type": "markdown",
   "id": "d12217fb",
   "metadata": {},
   "source": [
    "<div class=\"alert alert-block alert-warning\"><b>Advertencia: </b>El método remove() elimina solo la primera ocurrencia del valor especificado. </div>"
   ]
  },
  {
   "cell_type": "code",
   "execution_count": null,
   "id": "4a115f7b",
   "metadata": {},
   "outputs": [],
   "source": [
    "brands = [\"BMW\", \"VW\", \"Renault\",\"BMW\",\"BMW\"]\n",
    "print('Antes remove: ', brands)\n",
    "brands.remove('BMW')\n",
    "print('Despues remove: ', brands)"
   ]
  },
  {
   "cell_type": "markdown",
   "id": "9922b5e3",
   "metadata": {},
   "source": [
    "Como se indicó inicialmente, una lista es una secuencia ordenada. Sin embargo, podemos decidir cómo ordenar los elementos de esta secuencia utilizando la función sorted()."
   ]
  },
  {
   "cell_type": "code",
   "execution_count": null,
   "id": "1466a012",
   "metadata": {},
   "outputs": [],
   "source": [
    "# Ordenar lista\n",
    "brands = [\"BMW\", \"VW\", \"renault\",\"BMW\",\"BMW\"]\n",
    "print('Before sorting: ', brands)\n",
    "brands.sort()\n",
    "print('After sorting: ', brands)\n",
    "brands.sort(reverse=True)\n",
    "print('After sorting (reverse): ', brands)"
   ]
  },
  {
   "cell_type": "markdown",
   "id": "940536ab",
   "metadata": {},
   "source": [
    "Similar al caso de las cadenas, podemos usar los operadores + y * en listas. Bueno, esto es obviamente posible porque las cadenas son objetos similares a listas (listas de caracteres). Esto sucede debido a algo llamado duck-typing, que permite usar los mismos métodos tanto en str como en list."
   ]
  },
  {
   "cell_type": "code",
   "execution_count": null,
   "id": "62221578",
   "metadata": {},
   "outputs": [],
   "source": [
    "# Operadores en listas\n",
    "brands_EU = [\"BMW\", \"VW\", \"RENAULT\",\"BMW\",\"BMW\"]\n",
    "brands_USA= [\"GMC\",\"TESLA\"]\n",
    "all_brands = brands_EU + brands_USA\n",
    "print(f\"Todas las marcas: {all_brands}\")\n",
    "\n",
    "brands_USA= [\"GMC\",\"TESLA\"]\n",
    "print(f\"Todas las marcas: {brands_USA * 2}\")"
   ]
  },
  {
   "cell_type": "markdown",
   "id": "58f97a68",
   "metadata": {},
   "source": [
    "En algunas situaciones, es posible que queramos crear una copia de una lista y modificarla sin afectar el contenido de la lista original."
   ]
  },
  {
   "cell_type": "markdown",
   "id": "e1e6c661",
   "metadata": {},
   "source": [
    "Podemos hacer primero una copia `shallow` (shallow copy), que crea una nueva lista que contiene las referencias a los objetos presentes en la lista original. Esto se puede hacer de las siguientes maneras:\n",
    "* Usando el operador de rebanado [:] (ya lo conoces)\n",
    "* Usando el método `.copy()`\n",
    "* Usando el método `copy()` del módulo `copy`"
   ]
  },
  {
   "cell_type": "code",
   "execution_count": null,
   "id": "73cdcb87",
   "metadata": {},
   "outputs": [],
   "source": [
    "# Utilizando [:]\n",
    "brands_EU = [\"BMW\", \"VW\", \"RENAULT\"]\n",
    "print(brands_EU[:])"
   ]
  },
  {
   "cell_type": "code",
   "execution_count": null,
   "id": "67ceb3a0",
   "metadata": {},
   "outputs": [],
   "source": [
    "brands_EU = [\"BMW\", \"VW\", \"RENAULT\"]\n",
    "brands_USA = [\"TESLA\", \"FORD\"]\n",
    "brands_cars = [brands_EU, brands_USA]\n",
    "print(brands_cars) # Lista de listas"
   ]
  },
  {
   "cell_type": "code",
   "execution_count": null,
   "id": "d5921f04",
   "metadata": {},
   "outputs": [],
   "source": [
    "# Usando el metodo .copy()\n",
    "brands_cars_copied = brands_cars.copy()\n",
    "print(brands_cars_copied)"
   ]
  },
  {
   "cell_type": "code",
   "execution_count": null,
   "id": "85d9d7a1",
   "metadata": {
    "lines_to_next_cell": 2
   },
   "outputs": [],
   "source": [
    "#Se puede utilizar el metodo copy del modulo copy\n",
    "from copy import copy\n",
    "brands_cars_copied = copy(brands_cars)\n",
    "\n",
    "print('`brands_cars` id: ',hex(id(brands_cars)))\n",
    "print('`brands_cars_copied`: ',hex(id(brands_cars_copied)))"
   ]
  },
  {
   "cell_type": "markdown",
   "id": "fac71168",
   "metadata": {},
   "source": [
    "Verifiquemos si el primer elemento de cada lista. ¿Se refieren al mismo objeto?"
   ]
  },
  {
   "cell_type": "code",
   "execution_count": null,
   "id": "a5bb9bf2",
   "metadata": {},
   "outputs": [],
   "source": [
    "# Ejecuta: \n",
    "print(id(brands_cars[0])) \n",
    "print(id(brands_cars_copied[0])) \n",
    "# Si, se refieren al mismo objeto."
   ]
  },
  {
   "cell_type": "markdown",
   "id": "83441d21",
   "metadata": {},
   "source": [
    "Cuando queremos hacer una copia completa de una lista, necesitaremos hacer una copia profunda (deep copy). Este enfoque crea copias de cada elemento del objeto de manera recursiva."
   ]
  },
  {
   "cell_type": "code",
   "execution_count": null,
   "id": "b60e089a",
   "metadata": {},
   "outputs": [],
   "source": [
    "from copy import deepcopy\n",
    "\n",
    "brands_EU = [\"BMW\", \"VW\", \"RENAULT\"]\n",
    "brands_USA = [\"TESLA\", \"FORD\"]\n",
    "brands_cars = [brands_EU, brands_USA]\n",
    "\n",
    "brands_cars_deep_copied = deepcopy(brands_cars)\n",
    "\n",
    "# Verificamos el id de las listas\n",
    "print('`brands_cars` id: ',hex(id(brands_cars)))\n",
    "print('`brands_cars_deep_copied`: ',hex(id(brands_cars_deep_copied)))\n",
    "\n",
    "# Verificamos el id del primer objeto en las listas.\n",
    "\n",
    "print('`brands_cars[0]` id: ',hex(id(brands_cars[0])))\n",
    "print('`brands_cars_deep_copied[0]` id: ',hex(id(brands_cars_deep_copied[0])))"
   ]
  },
  {
   "cell_type": "markdown",
   "id": "44c9b3cb",
   "metadata": {},
   "source": [
    "# Iteraciones (for loops)\n",
    "Como se mencionó anteriormente, una lista es una secuencia de objetos en un orden particular. En Python, comúnmente queremos recorrer cada elemento de esta lista y ejecutar tareas. El recorrido de la lista se puede realizar utilizando diferentes construcciones, las más comunes son los bucles for y las comprensiones de listas."
   ]
  },
  {
   "cell_type": "markdown",
   "id": "bbfbb684",
   "metadata": {},
   "source": [
    "#### Usando bucles `for`\n",
    "La palabra clave `for` se puede utilizar para iterar sobre una secuencia un número fijo de veces. Esta palabra clave siempre debe usarse en combinación con un objeto iterable. `for` itera sobre los miembros de la secuencia __en orden__, ejecutando el bloque de código cada vez. La palabra clave `for` se usa en combinación con la palabra clave `in`."
   ]
  },
  {
   "cell_type": "code",
   "execution_count": null,
   "id": "86cadad6",
   "metadata": {},
   "outputs": [],
   "source": [
    "brands_EU = [\"BMW\", \"VW\", \"RENAULT\",\"CITROEN\",\"FIAT\"]\n",
    "# El patron es el siguiente `for` <variable> `in` <secuencia>: <bloque de codigo>\n",
    "for brand in brands_EU:\n",
    "    print(brand)"
   ]
  },
  {
   "cell_type": "code",
   "execution_count": null,
   "id": "d2620b80",
   "metadata": {},
   "outputs": [],
   "source": [
    "# Podemos iterar a traves de cualquier secuencia \n",
    "# We can iterate through any sequence\n",
    "for letter in brands_EU[2]:\n",
    "    print(letter)"
   ]
  },
  {
   "cell_type": "markdown",
   "id": "b62333b1",
   "metadata": {},
   "source": [
    "Podemos construir iteraciones anidadas si es necesario. Necesitamos repetir el patrón \\` `for` \\<variable\\> `in` \\<secuencia\\>: \\<bloque de código\\> \\`, teniendo cuidado con la indentación, que define el alcance del bucle `for`."
   ]
  },
  {
   "cell_type": "code",
   "execution_count": null,
   "id": "b0b0b76f",
   "metadata": {},
   "outputs": [],
   "source": [
    "for brand in brands_EU: # 5 elements\n",
    "    my_variable = 'happy'\n",
    "    print(f\"This is the brand: {brand}\")\n",
    "    # Repetimos el patron\n",
    "    for letter in brand: \n",
    "        print(f\"This is a letter: {letter}\")\n",
    "        ..."
   ]
  },
  {
   "cell_type": "markdown",
   "id": "105b7311",
   "metadata": {},
   "source": [
    "En algunas situaciones, también queremos conocer la ubicación del índice de la variable actual. Para esto, podemos usar la función incorporada `enumerate()`, que toma un iterable y devuelve un iterador que produce una tupla de dos elementos cuando se solicita."
   ]
  },
  {
   "cell_type": "code",
   "execution_count": null,
   "id": "855b0992",
   "metadata": {},
   "outputs": [],
   "source": [
    "brands_EU = [\"BMW\", \"VW\", \"RENAULT\",\"CITROEN\",\"FIAT\"]\n",
    "# El patron es `for` <variable> `in` <sequence>: <code block>\n",
    "for index, brand in enumerate(brands_EU): # enumerate() devuelve dos objetos: el indice y el valor.\n",
    "\n",
    "    print(f\"Esta es la marca: {brand} ubicada en el lugar: {index}\")"
   ]
  },
  {
   "cell_type": "markdown",
   "id": "0e5b2720",
   "metadata": {},
   "source": [
    "<div class=\"alert alert-block alert-warning\"><b>Advertencia: </b>enumerate() crea un iterador que devuelve dos objetos después de cada ciclo. A diferencia de una secuencia, donde todos los elementos de la secuencia ya están en memoria, un iterador produce valores progresivamente, bajo demanda. </div>"
   ]
  },
  {
   "cell_type": "markdown",
   "id": "a83bfac1",
   "metadata": {},
   "source": [
    "El bucle `for` iterará hasta agotar la lista. En algunos casos, es posible que queramos detener la iteración después de que se cumpla alguna condición. Para esto, usamos la palabra clave `break`."
   ]
  },
  {
   "cell_type": "code",
   "execution_count": null,
   "id": "5e7dcb7e",
   "metadata": {},
   "outputs": [],
   "source": [
    "brands_EU = [\"BMW\", \"VW\", \"RENAULT\",\"CITROEN\",\"FIAT\"]\n",
    "\n",
    "for brand in brands_EU:\n",
    "\n",
    "    print(f\"Esta es una marca: {brand}\")\n",
    "\n",
    "    if brand == \"RENAULT\": # Condition introduced\n",
    "        print(\"Condicion alcanzada, deteniendo el bucle\")\n",
    "        break\n",
    "    # we repeat the pattern\n",
    "    for letter in brand:\n",
    "        print(f\"Esta es una letra: {letter}\")"
   ]
  },
  {
   "cell_type": "markdown",
   "id": "70f4d360",
   "metadata": {},
   "source": [
    "<div class=\"alert alert-block alert-info\"><b>Consejo: </b>La palabra clave `if` se utiliza para introducir una condición. El patrón es `if` < expresión > : < bloque de código >. El < bloque de código > se ejecutará solo si la expresión es `True`. </div>"
   ]
  },
  {
   "cell_type": "code",
   "execution_count": null,
   "id": "8fdc62f0",
   "metadata": {},
   "outputs": [],
   "source": [
    "# Ejemplo\n",
    "if 3>2:\n",
    "    print(\"Todo en orden\")"
   ]
  },
  {
   "cell_type": "markdown",
   "id": "350a51d4",
   "metadata": {},
   "source": [
    "De manera similar al caso anterior, podemos omitir el bloque de código si se cumple alguna condición sin detener toda la iteración. Para esto, usamos la palabra clave `continue`.\n"
   ]
  },
  {
   "cell_type": "code",
   "execution_count": null,
   "id": "3963903f",
   "metadata": {},
   "outputs": [],
   "source": [
    "brands_EU = [\"BMW\", \"VW\", \"RENAULT\", \"CITROEN\", \"FIAT\"]\n",
    "\n",
    "for brand in brands_EU:\n",
    "\n",
    "    if brand == \"RENAULT\":  # Condición introducida\n",
    "        print(\"Condición cumplida, omitiendo esta marca\")\n",
    "        continue\n",
    "    print(f\"Esta es la marca: {brand}\")"
   ]
  },
  {
   "cell_type": "markdown",
   "id": "a144b9f1",
   "metadata": {},
   "source": [
    "<div class=\"alert alert-block alert-info\"><b>Consejo: </b>La estructura del bucle `for` está presente en muchos lenguajes de programación con sintaxis diferentes. En otros lenguajes de programación, es posible que necesites definir expresiones para controlar el valor del siguiente ciclo o una expresión para determinar si el ciclo ha terminado. En Python, esto se controla construyendo la secuencia apropiada. </div>"
   ]
  },
  {
   "cell_type": "markdown",
   "id": "bd8633f7",
   "metadata": {},
   "source": [
    "#### Usando comprensión de listas para iterar\n",
    "Las comprensiones de listas son una construcción particular de Python y nos permiten iterar a través de listas con una sola línea de código. La principal diferencia con respecto a los bucles `for` es que las comprensiones de listas están diseñadas para crear una lista a través de la iteración de otra lista. \n",
    "\n",
    "Una comprensión de lista combina el bucle `for` y la creación de nuevos elementos en una sola línea. Esta es una forma avanzada de construir listas, pero probablemente las encontrarás en muchos archivos de Python.\n"
   ]
  },
  {
   "cell_type": "code",
   "execution_count": null,
   "id": "ba3850de",
   "metadata": {
    "lines_to_next_cell": 2
   },
   "outputs": [],
   "source": [
    "# Bucle for y métodos incorporados para modificar listas\n",
    "brands_EU = [\"BMW\", \"VW\", \"RENAULT\", \"CITROEN\", \"FIAT\"]\n",
    "selected = []\n",
    "\n",
    "for brand in brands_EU:\n",
    "    if 'W' in brand:  # Condición introducida\n",
    "        selected.append(brand)\n",
    "\n",
    "print(f\"Esta es la nueva lista: {selected}\")"
   ]
  },
  {
   "cell_type": "code",
   "execution_count": null,
   "id": "985a2c08",
   "metadata": {},
   "outputs": [],
   "source": [
    "# Usando comprensión de listas\n",
    "\n",
    "# El patrón es [<variable_1> for <variable_1> in <una secuencia> <condición>]\n",
    "selected = [brand for brand in brands_EU if 'R' in brand]\n",
    "\n",
    "print(f\"Esta es la nueva lista: {selected}\")\n",
    "\n"
   ]
  },
  {
   "cell_type": "code",
   "execution_count": null,
   "id": "3ee21f75",
   "metadata": {},
   "outputs": [],
   "source": [
    "\n",
    "# Usando comprensión de listas\n",
    "\n",
    "# El patrón es [<variable_1> for <variable_1> in <una secuencia> <condición>]\n",
    "selected = [brand for brand in brands_EU if 'R' in brand]\n",
    "\n",
    "# También podemos hacer iteraciones anidadas con comprensión de listas\n",
    "brands_EU = [\"BMW\", \"VW\", \"RENAULT\"]\n",
    "brands_USA = [\"GMC\", \"TESLA\", \"FORD\"]\n",
    "all_brands = [brands_EU, brands_USA]\n",
    "print(f\"Todas las marcas: {all_brands}\")\n",
    "\n",
    "# Usando bucles for\n",
    "selected = []\n",
    "for brand_list in all_brands:\n",
    "    for brand in brand_list:\n",
    "        if \"L\" in brand:\n",
    "            selected.append(brand)\n",
    "print('Usando bucles for: ', selected)\n",
    "\n",
    "# Usando comprensión de listas\n",
    "selected_1 = [brand for brand_list in all_brands for brand in brand_list if \"L\" in brand]\n",
    "\n",
    "print('Usando comprensión de listas: ', selected_1)"
   ]
  },
  {
   "cell_type": "markdown",
   "id": "a4e57e9e",
   "metadata": {},
   "source": [
    "## Diccionarios  \n",
    "\n",
    "Los diccionarios son estructuras de datos que nos permiten conectar piezas de información relacionada. Cualquier cosa que pueda emparejarse puede almacenarse como un diccionario. Los diccionarios son estructuras de datos importantes en Python porque pueden almacenar datos anidados casi ilimitados.  \n",
    "\n"
   ]
  },
  {
   "cell_type": "code",
   "execution_count": null,
   "id": "e01eebcb",
   "metadata": {},
   "outputs": [],
   "source": [
    "# Un diccionario es una colección de pares clave-valor.  \n",
    "# Cada clave es única, y el valor puede ser de cualquier tipo de dato (int, string, lista, etc.)  \n",
    "\n",
    "# Ejemplo: Crear un diccionario  \n",
    "persona = {  \n",
    "    \"nombre\": \"John\",  \n",
    "    \"edad\": 30,  \n",
    "    \"ciudad\": \"Nueva York\",  \n",
    "}  \n",
    "\n",
    "# Imprimir el diccionario  \n",
    "print(persona)  "
   ]
  },
  {
   "cell_type": "code",
   "execution_count": null,
   "id": "881fc63c",
   "metadata": {},
   "outputs": [],
   "source": [
    "# Podemos acceder a los valores en un diccionario usando la clave  \n",
    "# En este caso, la clave es 'nombre'  \n",
    "print(persona[\"nombre\"])  "
   ]
  },
  {
   "cell_type": "code",
   "execution_count": null,
   "id": "88282eea",
   "metadata": {},
   "outputs": [],
   "source": [
    "# También podemos usar el método `get()` para acceder a los valores  \n",
    "print(persona.get(\"nombre\"))  "
   ]
  },
  {
   "cell_type": "code",
   "execution_count": null,
   "id": "70e1a7a4",
   "metadata": {},
   "outputs": [],
   "source": [
    "# Si la clave no existe, `get()` devuelve None en lugar de generar un error  \n",
    "type(persona.get(\"país\"))"
   ]
  },
  {
   "cell_type": "code",
   "execution_count": null,
   "id": "d9dd1ffa",
   "metadata": {},
   "outputs": [],
   "source": [
    "# Añadir un nuevo par clave-valor  \n",
    "persona[\"comida_favorita\"] = \"pizza\"  \n",
    "print(persona)  # Ahora el diccionario incluye la clave 'país'  "
   ]
  },
  {
   "cell_type": "code",
   "execution_count": null,
   "id": "b7777ba4",
   "metadata": {},
   "outputs": [],
   "source": [
    "# Actualizar un valor existente  \n",
    "persona[\"edad\"] = 42  \n",
    "print(persona)  # El valor de 'edad' se actualiza a 42  "
   ]
  },
  {
   "cell_type": "code",
   "execution_count": null,
   "id": "debb8e75",
   "metadata": {},
   "outputs": [],
   "source": [
    "# Usar la palabra clave `del`  \n",
    "del persona[\"ciudad\"]  \n",
    "print(persona)  # 'ciudad' se elimina del diccionario"
   ]
  },
  {
   "cell_type": "code",
   "execution_count": null,
   "id": "b134f540",
   "metadata": {},
   "outputs": [],
   "source": [
    "# Usar `pop()` para eliminar y devolver el valor  \n",
    "edad = persona.pop(\"edad\")  \n",
    "print(persona)  # 'edad' se elimina  \n",
    "print(f\"Edad eliminada: {edad}\")  # Salida: Edad eliminada: 31  "
   ]
  },
  {
   "cell_type": "code",
   "execution_count": null,
   "id": "2f442352",
   "metadata": {},
   "outputs": [],
   "source": [
    "# Verificar si una clave existe en un diccionario  \n",
    "\n",
    "# Usar la palabra clave `in`  \n",
    "print(\"nombre\" in persona)  # True  \n",
    "print(\"ciudad\" in persona)  # False "
   ]
  },
  {
   "cell_type": "code",
   "execution_count": null,
   "id": "ce2b8267",
   "metadata": {},
   "outputs": [],
   "source": [
    "# Recorrer un diccionario  \n",
    "\n",
    "# Iterar a través de las claves  \n",
    "for clave in persona:  \n",
    "    print(clave) "
   ]
  },
  {
   "cell_type": "code",
   "execution_count": null,
   "id": "f7c2e17f",
   "metadata": {},
   "outputs": [],
   "source": [
    "# Iterar a través de los valores  \n",
    "for valor in persona.values():  \n",
    "    print(valor)  # Imprime todos los valores "
   ]
  },
  {
   "cell_type": "code",
   "execution_count": null,
   "id": "a69b7d11",
   "metadata": {},
   "outputs": [],
   "source": [
    "# Iterar a través de pares clave-valor  \n",
    "for clave, valor in persona.items():  \n",
    "    print(f\"La respuesta es: {clave}: {valor}\")  # Imprime pares clave-valor  "
   ]
  },
  {
   "cell_type": "code",
   "execution_count": null,
   "id": "6cd8338b",
   "metadata": {},
   "outputs": [],
   "source": [
    "# También podemos aplicar una comprensión de diccionario  \n",
    "\n",
    "# Crear un nuevo diccionario donde las claves son números y los valores son sus cuadrados  \n",
    "cuadrados = {(x): f\"mi número es {x}\" for x in range(5)}  \n",
    "print(cuadrados)  "
   ]
  },
  {
   "cell_type": "code",
   "execution_count": null,
   "id": "e951853e",
   "metadata": {
    "lines_to_next_cell": 2
   },
   "outputs": [],
   "source": [
    "# Diccionarios anidados (diccionarios dentro de diccionarios)  \n",
    "\n",
    "# Un diccionario que contiene otro diccionario como valor  \n",
    "diccionario_anidado = {  \n",
    "    \"persona1\": {\"nombre\": \"Alice\", \"edad\": 25},  \n",
    "    \"persona2\": {\"nombre\": \"Bob\", \"edad\": 28}  \n",
    "}  \n",
    "\n",
    "# Acceder a un diccionario anidado  \n",
    "# print(diccionario_anidado[\"persona1\"][\"nombre\"])  \n",
    "\n",
    "for clave, valor in diccionario_anidado.items():  \n",
    "    print(f\"El nombre de nuestro cliente es {valor['nombre']}\")  "
   ]
  },
  {
   "cell_type": "code",
   "execution_count": null,
   "id": "cf1a3bb4",
   "metadata": {},
   "outputs": [],
   "source": [
    "\n",
    "# Métodos de diccionario  \n",
    "\n",
    "# `keys()` devuelve todas las claves como un objeto dict_keys  \n",
    "print(persona.keys())\n",
    "\n",
    "# `values()` devuelve todos los valores como un objeto dict_values  \n",
    "print(persona.values())\n",
    "\n",
    "# `items()` devuelve todos los pares clave-valor como un objeto dict_items  \n",
    "print(persona.items())  \n",
    "\n",
    "# Usar `update()` para fusionar otro diccionario en el actual  \n",
    "persona.update({\"género\": \"Masculino\", \"ciudad\": \"Nueva York\"})  \n",
    "print(persona)"
   ]
  },
  {
   "cell_type": "code",
   "execution_count": null,
   "id": "9a28ff85",
   "metadata": {
    "lines_to_next_cell": 2
   },
   "outputs": [],
   "source": [
    "# Usar el operador de desempaquetado `**` para fusionar diccionarios  \n",
    "nueva_informacion = {1: [\"Leer\", \"Viajar\"]}  \n",
    "persona = {  \n",
    "    \"nombre\": \"John\",  \n",
    "    \"edad\": 30,  \n",
    "    \"ciudad\": \"Nueva York\",  \n",
    "}  \n",
    "diccionario_fusionado = {**persona, **nueva_informacion}  \n",
    "print(diccionario_fusionado)"
   ]
  },
  {
   "cell_type": "markdown",
   "id": "24cb35df",
   "metadata": {},
   "source": [
    "## Tuplas\n",
    "Una tupla es una colección ordenada e inmutable de elementos. Son similares a las listas, pero a diferencia de las listas, no se pueden modificar una vez creadas.\n"
   ]
  },
  {
   "cell_type": "code",
   "execution_count": null,
   "id": "159c97fe",
   "metadata": {
    "lines_to_next_cell": 0
   },
   "outputs": [],
   "source": [
    "# Ejemplo: Crear una tupla\n",
    "mi_tupla = (1, 2, 3, 4)\n",
    "print(mi_tupla)"
   ]
  },
  {
   "cell_type": "code",
   "execution_count": null,
   "id": "dd769f87",
   "metadata": {
    "lines_to_next_cell": 0
   },
   "outputs": [],
   "source": [
    "# Acceder a elementos en una tupla\n",
    "\n",
    "# Puedes acceder a los elementos de una tupla por índice (indexación basada en 0)\n",
    "print(mi_tupla[0])  \n",
    "print(mi_tupla[2])  \n",
    "\n",
    "# La indexación negativa comienza desde el final\n",
    "print(mi_tupla[-1]) "
   ]
  },
  {
   "cell_type": "code",
   "execution_count": null,
   "id": "938dc9e5",
   "metadata": {
    "lines_to_next_cell": 0
   },
   "outputs": [],
   "source": [
    "# Rebanar una tupla\n",
    "\n",
    "# Rebanar devuelve una nueva tupla con un subconjunto de los elementos\n",
    "print(mi_tupla[1:3])  \n",
    "\n",
    "# Rebanar con indexación negativa\n",
    "print(mi_tupla[-3:-1])"
   ]
  },
  {
   "cell_type": "code",
   "execution_count": null,
   "id": "35bbca73",
   "metadata": {},
   "outputs": [],
   "source": [
    "# Las tuplas son inmutables, lo que significa que sus elementos no se pueden cambiar después de su creación\n",
    "\n",
    "# Intentar modificar un elemento resultará en un error\n",
    "mi_tupla[0] = 10  "
   ]
  },
  {
   "cell_type": "code",
   "execution_count": null,
   "id": "7c1d76a3",
   "metadata": {
    "lines_to_next_cell": 0
   },
   "outputs": [],
   "source": [
    "# Concatenar y repetir tuplas\n",
    "\n",
    "# Concatenar dos tuplas\n",
    "tupla1 = (1, 2)\n",
    "tupla2 = (3, 4)\n",
    "tupla_combinada = tupla1 + tupla2\n",
    "print(tupla_combinada)  \n",
    "\n",
    "# Repetir una tupla\n",
    "tupla_repetida = (5, 6) * 3\n",
    "print(tupla_repetida)  "
   ]
  },
  {
   "cell_type": "code",
   "execution_count": null,
   "id": "3f790cd5",
   "metadata": {
    "lines_to_next_cell": 0
   },
   "outputs": [],
   "source": [
    "# Verificar la longitud de una tupla\n",
    "\n",
    "# Usar la función len() para obtener el número de elementos en una tupla\n",
    "print(len(mi_tupla))  "
   ]
  },
  {
   "cell_type": "code",
   "execution_count": null,
   "id": "31fba280",
   "metadata": {
    "lines_to_next_cell": 2
   },
   "outputs": [],
   "source": [
    "mi_tupla"
   ]
  },
  {
   "cell_type": "code",
   "execution_count": null,
   "id": "e8583297",
   "metadata": {
    "lines_to_next_cell": 0
   },
   "outputs": [],
   "source": [
    "# Verificar si un elemento existe en una tupla\n",
    "\n",
    "# Usar la palabra clave `in`\n",
    "print(3 in mi_tupla) \n",
    "print(10 in mi_tupla) "
   ]
  },
  {
   "cell_type": "code",
   "execution_count": null,
   "id": "7837d6fb",
   "metadata": {
    "lines_to_next_cell": 0
   },
   "outputs": [],
   "source": [
    "# Iterar a través de una tupla\n",
    "\n",
    "# Usar un bucle for para iterar sobre los elementos\n",
    "for elemento in mi_tupla:\n",
    "    print(elemento)  # Imprime cada elemento de la tupla"
   ]
  },
  {
   "cell_type": "code",
   "execution_count": null,
   "id": "bd0c3d29",
   "metadata": {},
   "outputs": [],
   "source": [
    "mi_tupla"
   ]
  },
  {
   "cell_type": "code",
   "execution_count": null,
   "id": "b8f3467d",
   "metadata": {
    "lines_to_next_cell": 0
   },
   "outputs": [],
   "source": [
    "# Desempaquetar una tupla\n",
    "\n",
    "# Puedes desempaquetar los elementos de una tupla en variables\n",
    "a, b, c, d = mi_tupla\n",
    "print(a, b, c, d)  \n",
    "\n",
    "# Puedes usar un guion bajo `_` para ignorar un valor específico\n",
    "x, _, y, _ = mi_tupla\n",
    "print(x, y) "
   ]
  },
  {
   "cell_type": "code",
   "execution_count": null,
   "id": "fee7b4fa",
   "metadata": {
    "lines_to_next_cell": 0
   },
   "outputs": [],
   "source": [
    "# Convertir otros tipos de datos a tuplas\n",
    "\n",
    "# Puedes convertir listas, cadenas y otros tipos iterables a tuplas\n",
    "mi_lista = [1, 2, 3]\n",
    "tupla_desde_lista = tuple(mi_lista)\n",
    "print(tupla_desde_lista)  \n",
    "\n",
    "# Convertir una cadena a una tupla\n",
    "tupla_desde_cadena = tuple(\"hola\")\n",
    "print(tupla_desde_cadena) "
   ]
  },
  {
   "cell_type": "code",
   "execution_count": null,
   "id": "1cf0fbfc",
   "metadata": {
    "lines_to_next_cell": 0
   },
   "outputs": [],
   "source": [
    "# Contar y encontrar el índice de elementos en una tupla\n",
    "\n",
    "# `count()` devuelve cuántas veces aparece un elemento específico en una tupla\n",
    "print(mi_tupla.count(3))  \n",
    "\n",
    "# `index()` devuelve el índice de la primera aparición de un elemento específico\n",
    "print(mi_tupla.index(3))"
   ]
  },
  {
   "cell_type": "code",
   "execution_count": null,
   "id": "3b2d5618",
   "metadata": {
    "lines_to_next_cell": 1
   },
   "outputs": [],
   "source": [
    "# Crear una tupla vacía\n",
    "\n",
    "# Una tupla vacía se puede crear usando paréntesis vacíos\n",
    "tupla_vacia = ()\n",
    "print(tupla_vacia) \n",
    "\n",
    "# Puedes crear una tupla con un solo elemento añadiendo una coma al final\n",
    "tupla_un_elemento = (1,)\n",
    "print(tupla_un_elemento) "
   ]
  },
  {
   "cell_type": "markdown",
   "id": "6e906daf",
   "metadata": {},
   "source": [
    "# Funciones\n",
    "\n",
    "El concepto de funciones en Python es análogo al concepto de funciones en matemáticas.\n",
    "\n",
    " $$ z = f(x,y)$$"
   ]
  },
  {
   "cell_type": "markdown",
   "id": "f4720fa1",
   "metadata": {},
   "source": [
    "En Python, las funciones son más versátiles y genéricas que las funciones matemáticas. De hecho, contienen bloques de código reutilizables que pueden realizar una tarea específica.\n",
    "Ayudan a organizar el código, reducir la redundancia y mejorar la modularidad."
   ]
  },
  {
   "cell_type": "markdown",
   "id": "54ae12d0",
   "metadata": {},
   "source": [
    "Sintaxis básica\n",
    "```python\n",
    "def nombre_de_la_función(<tus-parámetros>):\n",
    "    <tu bloque de código aquí>\n",
    "    return <un valor de salida>      # Declaración de retorno opcional\n",
    "```\n",
    "- **`def`**: Palabra clave para definir una función\n",
    "- **\\<tus-parámetros\\>**: Entradas de la función (opcional)\n",
    "- **`return`**: Devuelve un valor (opcional; por defecto es `None`)"
   ]
  },
  {
   "cell_type": "code",
   "execution_count": null,
   "id": "bbbdd2d0",
   "metadata": {
    "lines_to_next_cell": 1
   },
   "outputs": [],
   "source": [
    "# Una función básica necesita usar indentación para indicar el alcance\n",
    "def saludar():\n",
    "    return \"¡Hola, Mundo!\"\n",
    "\n",
    "mensaje = saludar()  # Llamada a la función\n",
    "print(mensaje)"
   ]
  },
  {
   "cell_type": "code",
   "execution_count": null,
   "id": "f9c36b2f",
   "metadata": {},
   "outputs": [],
   "source": [
    "def sumar(a, b):\n",
    "    \"\"\"Devuelve la suma de dos números\"\"\" \n",
    "    return a + b\n",
    "\n",
    "resultado = sumar(3, 5)\n",
    "print(f\"3 + 5 = {resultado}\")"
   ]
  },
  {
   "cell_type": "code",
   "execution_count": null,
   "id": "d57cc1f8",
   "metadata": {},
   "outputs": [],
   "source": [
    "sumar(2,1)"
   ]
  },
  {
   "cell_type": "code",
   "execution_count": null,
   "id": "da860b28",
   "metadata": {},
   "outputs": [],
   "source": [
    "# Podemos crear parámetros por defecto usando el operador =\n",
    "def potencia(base, exponente=2):\n",
    "    \"\"\"Devuelve la base elevada al exponente (por defecto: al cuadrado)\"\"\"\n",
    "    return base ** exponente\n",
    "print(potencia(2))"
   ]
  },
  {
   "cell_type": "code",
   "execution_count": null,
   "id": "481e2d9f",
   "metadata": {},
   "outputs": [],
   "source": [
    "print(potencia(2,5))"
   ]
  },
  {
   "cell_type": "code",
   "execution_count": null,
   "id": "d5b3695d",
   "metadata": {
    "lines_to_next_cell": 1
   },
   "outputs": [],
   "source": [
    "# Los argumentos se pasan a cada parámetro correspondiente usando el operador de asignación\n",
    "def info_persona(nombre, edad, ciudad):\n",
    "    print(f\"{nombre}, {edad} años, vive en {ciudad}\")\n",
    "\n",
    "info_persona(edad=30, ciudad=\"París\", nombre=\"Alicia\")  # El orden no importa"
   ]
  },
  {
   "cell_type": "markdown",
   "id": "d4dc6a36",
   "metadata": {},
   "source": [
    "En Python podemos recibir argumentos de manera flexible usando `*args` y `**kwargs`.\n"
   ]
  },
  {
   "cell_type": "code",
   "execution_count": null,
   "id": "12394e5b",
   "metadata": {
    "lines_to_next_cell": 1
   },
   "outputs": [],
   "source": [
    "def imprimir_args(*args, **kwargs):\n",
    "    print(\"Argumentos posicionales:\", args)\n",
    "    print(\"Argumentos de palabra clave:\", kwargs)\n",
    "\n",
    "imprimir_args(1, 'a', nombre=\"Juan\", edad=25, a=1, b=3)"
   ]
  },
  {
   "cell_type": "code",
   "execution_count": null,
   "id": "8abc0c49",
   "metadata": {},
   "outputs": [],
   "source": [
    "def validar(*args, **pizza):\n",
    "    if 'cuenta' in pizza:\n",
    "        print(f'Acceso concedido a: {pizza['cuenta']}')\n",
    "    else:\n",
    "        print(\"No válido\")\n",
    "\n",
    "validar(1, nombre=\"Juan\", edad=25, a=1, b=3, cuenta='Gustavo', tamaño='L')"
   ]
  },
  {
   "cell_type": "markdown",
   "id": "c42adbb3",
   "metadata": {},
   "source": [
    "Una función puede devolver uno o más valores cuando se define `return`, de lo contrario devuelve `None`"
   ]
  },
  {
   "cell_type": "markdown",
   "id": "4235496f",
   "metadata": {},
   "source": [
    "Sobre argumentos y parámetros:\n",
    "\n",
    "- **Parámetros Requeridos**: Deben pasarse durante la llamada a la función\n",
    "- **Parámetros por Defecto**: Tienen valores predeterminados si no se proporcionan\n",
    "- **Argumentos de Palabra Clave**: Especificados por el nombre del parámetro\n",
    "- **Argumentos de Longitud Variable**: `*args` (tuplas) y `**kwargs` (diccionarios)"
   ]
  },
  {
   "cell_type": "code",
   "execution_count": null,
   "id": "13a1a15f",
   "metadata": {},
   "outputs": [],
   "source": [
    "# Llama a la función imprimir_args() con los argumentos de tu elección y asigna la salida a una variable llamada 'a'"
   ]
  },
  {
   "cell_type": "code",
   "execution_count": null,
   "id": "6b1afe2a",
   "metadata": {},
   "outputs": [],
   "source": [
    "# Si es necesario, podemos devolver múltiples salidas, pero puede ser necesario desempaquetarlas al asignarlas a variables\n",
    "\n",
    "def mi_función(a, b):\n",
    "    suma_personalizada = a + b\n",
    "    resta = a - b\n",
    "    multiplicación = a * b\n",
    "    soluciones = [suma_personalizada, resta, multiplicación]\n",
    "    return soluciones\n",
    "\n",
    "\n"
   ]
  },
  {
   "cell_type": "markdown",
   "id": "0548a5a1",
   "metadata": {},
   "source": [
    "# Condicionales `If`\n",
    "La sentencia `if` ejecuta bloques de código basados en condiciones booleanas.\n",
    "\n",
    "**Sintaxis:**\n",
    "```python\n",
    "if condición:\n",
    "    # bloque de código indentado\n",
    "```\n",
    "\n",
    "**Reglas clave:**\n",
    "- Dos puntos `:` obligatorios después de la condición\n",
    "- Bloques de código definidos por indentación (se recomiendan 4 espacios)\n",
    "- Operadores de comparación: `>`, `<`, `==`, `!=`, `>=`, `<=`"
   ]
  },
  {
   "cell_type": "code",
   "execution_count": null,
   "id": "9dfccec8",
   "metadata": {},
   "outputs": [],
   "source": [
    "temperatura = 30\n",
    "if temperatura > 25:\n",
    "    print(\"¡Es un día caluroso!\")\n",
    "    print(\"¡Mantente hidratado!\")"
   ]
  },
  {
   "cell_type": "markdown",
   "id": "17754e83",
   "metadata": {},
   "source": [
    "## Sentencia If-Else\n",
    "Proporciona caminos de ejecución alternativos:\n",
    "```python\n",
    "if condición:\n",
    "    # caso verdadero\n",
    "else:\n",
    "    # caso falso\n",
    "```"
   ]
  },
  {
   "cell_type": "code",
   "execution_count": null,
   "id": "0b4ef2db",
   "metadata": {},
   "outputs": [],
   "source": [
    "edad = 12\n",
    "if edad >= 18:\n",
    "    print(\"Eres elegible para votar\")\n",
    "else:\n",
    "    print(\"Aún no eres elegible para votar\")\n",
    "    años_faltantes = 18 - edad\n",
    "    print(f\"Vuelve en {años_faltantes} año{'s' if años_faltantes > 1 else ''}\")"
   ]
  },
  {
   "cell_type": "markdown",
   "id": "16406350",
   "metadata": {},
   "source": [
    "## Sentencias Elif (Else If)\n",
    "Maneja múltiples condiciones exclusivas:\n",
    "```python\n",
    "if cond1:\n",
    "    ...\n",
    "elif cond2:\n",
    "    ...\n",
    "else:\n",
    "    ...\n",
    "```"
   ]
  },
  {
   "cell_type": "code",
   "execution_count": null,
   "id": "43e40c9d",
   "metadata": {},
   "outputs": [],
   "source": [
    "puntuación = 82\n",
    "if puntuación >= 90:\n",
    "    calificación = \"A\"\n",
    "elif puntuación >= 80:\n",
    "    calificación = \"B\"\n",
    "elif puntuación >= 70:\n",
    "    calificación = \"C\"\n",
    "elif puntuación >= 60:\n",
    "    calificación = \"D\"\n",
    "else:\n",
    "    calificación = \"F\"\n",
    "print(f\"Puntuación: {puntuación} -> Calificación: {calificación}\")"
   ]
  },
  {
   "cell_type": "markdown",
   "id": "dd93322d",
   "metadata": {},
   "source": [
    "## Veracidad y Evaluación Booleana\n",
    "Python evalúa valores no booleanos en condiciones:\n",
    "- **Falsy:** `None`, `0`, colecciones vacías (`\"\"`, `[]`, `{}`, etc.), False\n",
    "- **Truthy:** Todos los demás valores, True"
   ]
  },
  {
   "cell_type": "code",
   "execution_count": null,
   "id": "f56b1e5e",
   "metadata": {},
   "outputs": [],
   "source": [
    "nombre_usuario = 4\n",
    "if nombre_usuario:\n",
    "    print(f\"Bienvenido {nombre_usuario}\")\n",
    "else:\n",
    "    print(\"Usuario invitado\")"
   ]
  },
  {
   "cell_type": "markdown",
   "id": "4a819c46",
   "metadata": {},
   "source": [
    "## Operadores Lógicos\n",
    "Combina condiciones con:\n",
    "- `and`: Ambos deben ser verdaderos\n",
    "- `or`: Al menos uno debe ser verdadero\n",
    "- `not`: Invierte el valor booleano"
   ]
  },
  {
   "cell_type": "code",
   "execution_count": null,
   "id": "a08219eb",
   "metadata": {},
   "outputs": [],
   "source": [
    "edad = 45\n",
    "tiene_licencia = False\n",
    "if (edad >= 18) or (tiene_licencia):\n",
    "    print(\"Puedes conducir un coche\")\n",
    "else:\n",
    "    print(\"No se permite conducir\")"
   ]
  },
  {
   "cell_type": "markdown",
   "id": "3e3e78f9",
   "metadata": {},
   "source": [
    "## Sentencias If Anidadas\n",
    "Las sentencias if pueden contener otras sentencias if"
   ]
  },
  {
   "cell_type": "code",
   "execution_count": null,
   "id": "16c0168f",
   "metadata": {},
   "outputs": [],
   "source": [
    "saldo_cuenta = 11500\n",
    "es_premium = 1\n",
    "if saldo_cuenta > 0:\n",
    "    print(\"Cuenta activa\")\n",
    "    if es_premium:\n",
    "        print(\"Beneficios premium activados\")\n",
    "        if es_premium and saldo_cuenta > 2000:\n",
    "            print(\"Felicidades, has ganado un premio\")\n",
    "    else:\n",
    "        print(\"Cuenta estándar\")\n",
    "else:\n",
    "    print(\"Cuenta suspendida\")"
   ]
  },
  {
   "cell_type": "markdown",
   "id": "8bfaae51",
   "metadata": {},
   "source": [
    "## Operador Ternario\n",
    "Expresión condicional compacta:\n",
    "```python\n",
    "resultado = valor_verdadero if condición else valor_falso\n",
    "```"
   ]
  },
  {
   "cell_type": "code",
   "execution_count": null,
   "id": "7419771d",
   "metadata": {},
   "outputs": [],
   "source": [
    "costo = 99\n",
    "var = 24 if costo < 15 else 56\n",
    "print(var)"
   ]
  },
  {
   "cell_type": "code",
   "execution_count": null,
   "id": "d215a57b",
   "metadata": {},
   "outputs": [],
   "source": [
    "temperatura = 28\n",
    "estado = \"Caluroso\" if temperatura > 25 else \"Fresco\"\n",
    "print(f\"Estado: {estado}\")"
   ]
  },
  {
   "cell_type": "markdown",
   "id": "cd969f23",
   "metadata": {},
   "source": [
    "## Errores Comunes\n",
    "1. Usar `=` en lugar de `==`\n",
    "2. Olvidar los dos puntos `:`\n",
    "3. Indentación incorrecta\n",
    "4. Condiciones demasiado complejas"
   ]
  },
  {
   "cell_type": "code",
   "execution_count": null,
   "id": "9107f044",
   "metadata": {},
   "outputs": [],
   "source": [
    "# Ejemplo de error común\n",
    "x = 5\n",
    "if x == 10:  # Comparación correcta\n",
    "    print(\"x es 10\")"
   ]
  },
  {
   "cell_type": "markdown",
   "id": "d6b7cb8d",
   "metadata": {},
   "source": [
    "## Ejemplo Práctico: Control de Acceso de Usuario\n",
    "Implementación del mundo real combinando múltiples conceptos"
   ]
  },
  {
   "cell_type": "code",
   "execution_count": null,
   "id": "056e9a84",
   "metadata": {},
   "outputs": [],
   "source": [
    "usuario = {\n",
    "    \"nombre_usuario\": \"admin\",\n",
    "    \"está_activo\": True,\n",
    "    \"intentos_de_inicio\": 2,\n",
    "    \"rol\": \"admin\"\n",
    "}\n",
    "\n",
    "if usuario[\"está_activo\"]:\n",
    "    if usuario[\"intentos_de_inicio\"] < 3:\n",
    "        if usuario[\"rol\"] == \"admin\":\n",
    "            print(\"Panel de administrador\")\n",
    "        elif usuario[\"rol\"] == \"editor\":\n",
    "            print(\"Panel de editor\")\n",
    "        else:\n",
    "            print(\"Perfil de usuario\")\n",
    "    else:\n",
    "        print(\"Cuenta bloqueada\")\n",
    "else:\n",
    "    print(\"Cuenta desactivada\")\n",
    "\n"
   ]
  },
  {
   "cell_type": "code",
   "execution_count": null,
   "id": "b698d31d",
   "metadata": {},
   "outputs": [],
   "source": []
  }
 ],
 "metadata": {
  "jupytext": {
   "cell_metadata_filter": "-all",
   "main_language": "python",
   "notebook_metadata_filter": "-all"
  }
 },
 "nbformat": 4,
 "nbformat_minor": 5
}
