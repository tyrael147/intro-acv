{
 "cells": [
  {
   "cell_type": "markdown",
   "id": "676b0e03",
   "metadata": {},
   "source": [
    "## Tipos de datos básicos\n",
    "### Cadenas de texto (Strings)\n",
    "Son secuencias de caracteres que se pueden crear usando comillas simples o dobles. Cualquier contenido dentro de comillas se considera una cadena."
   ]
  },
  {
   "cell_type": "code",
   "execution_count": null,
   "id": "8b7da165",
   "metadata": {},
   "outputs": [],
   "source": [
    "from rich import print"
   ]
  },
  {
   "cell_type": "code",
   "execution_count": null,
   "id": "9acee545",
   "metadata": {},
   "outputs": [],
   "source": [
    "print('This is a string')  # Esto sigue en inglés porque es parte del código\n",
    "print(\"This is also a string\")"
   ]
  },
  {
   "cell_type": "markdown",
   "id": "c3d0ac1d",
   "metadata": {},
   "source": [
    "Podemos incluir cualquier tipo de carácter en una cadena. Sin embargo, en algunos casos queremos dar un significado especial a un carácter o suprimir su significado.\n",
    "Para estas situaciones, usamos el carácter de escape `\\` antes del carácter especial."
   ]
  },
  {
   "cell_type": "code",
   "execution_count": null,
   "id": "813c5015",
   "metadata": {},
   "outputs": [],
   "source": [
    "print(\"This is a double quote: \\\" \")"
   ]
  },
  {
   "cell_type": "code",
   "execution_count": null,
   "id": "0a0c7297",
   "metadata": {},
   "outputs": [],
   "source": [
    "# Escapando comillas simples\n",
    "print(\"Doble quotes (\\\") are important to build strings\")"
   ]
  },
  {
   "cell_type": "code",
   "execution_count": null,
   "id": "7f3e6a33",
   "metadata": {},
   "outputs": [],
   "source": [
    "print(\"This is the letter \\t tab\")"
   ]
  },
  {
   "cell_type": "markdown",
   "id": "d7f7b1c4",
   "metadata": {},
   "source": [
    "Existen otras secuencias de escape con significados especiales en Python:\n",
    "\n",
    "| Secuencia Escape  | \tSignificado                 |\n",
    "|--------------------|-------------------------------|\n",
    "| \\a               |\tCarácter de campana ASCII (BEL) |\n",
    "| \\b |\tCarácter de retroceso ASCII (BS) |\n",
    "|\\f |\tCarácter de avance de página ASCII (FF)|\n",
    "|\\n | Carácter de salto de línea ASCII (LF)|\n",
    "|\\N{<nombre>} |\tCarácter Unicode con <nombre> especificado|\n",
    "|\\r | \tCarácter de retorno de carro ASCII (CR)|\n",
    "|\\t \t| Tabulación horizontal ASCII (TAB)|\n",
    "|\\uxxxx \t| Carácter Unicode con valor hexadecimal de 16 bits|\n",
    "|\\Uxxxxxxxx \t| Carácter Unicode con valor hexadecimal de 32 bits|\n",
    "|\\v | \tTabulación vertical ASCII (VT)|\n",
    "|\\ooo |\tCarácter con valor octal|\n",
    "|\\xhh \t| Carácter con valor hexadecimal|\n"
   ]
  },
  {
   "cell_type": "code",
   "execution_count": null,
   "id": "d5f90715",
   "metadata": {},
   "outputs": [],
   "source": [
    "print(\"We will have a new line \\nafter the initial line\")  # Dos líneas"
   ]
  },
  {
   "cell_type": "code",
   "execution_count": null,
   "id": "aff0d622",
   "metadata": {},
   "outputs": [],
   "source": [
    "print(\"This introduces the \\ttabulator into the string\")  # Se introduce una tabulación"
   ]
  },
  {
   "cell_type": "code",
   "execution_count": null,
   "id": "cb90eba1",
   "metadata": {},
   "outputs": [],
   "source": [
    "print(\"\\x61\")  # Hexadecimal"
   ]
  },
  {
   "cell_type": "code",
   "execution_count": null,
   "id": "ec9ccc7e",
   "metadata": {},
   "outputs": [],
   "source": [
    "print(\"\\N{White Smiling Face}\")  # Unicode por nombre"
   ]
  },
  {
   "cell_type": "code",
   "execution_count": null,
   "id": "896280b9",
   "metadata": {},
   "outputs": [],
   "source": [
    "happy = \"\\N{White Smiling Face}\""
   ]
  },
  {
   "cell_type": "code",
   "execution_count": null,
   "id": "12cafce5",
   "metadata": {},
   "outputs": [],
   "source": [
    "print(\"Because I am...\", happy)"
   ]
  },
  {
   "cell_type": "markdown",
   "id": "de32c0ba",
   "metadata": {},
   "source": [
    "Podemos usar comillas simples y dobles para crear cadenas que contengan comillas internas."
   ]
  },
  {
   "cell_type": "code",
   "execution_count": null,
   "id": "f1756934",
   "metadata": {},
   "outputs": [],
   "source": [
    "print(\"And the police said: 'Stop there, you fool!'\")"
   ]
  },
  {
   "cell_type": "code",
   "execution_count": null,
   "id": "78a8d37b",
   "metadata": {},
   "outputs": [],
   "source": [
    "print('And the police said: \"Stop there, you fool!\"')"
   ]
  },
  {
   "cell_type": "markdown",
   "id": "fba4e702",
   "metadata": {},
   "source": [
    "Podemos formatear cadenas insertando datos de variables usando f-strings (f de formato). Útil para crear cadenas complejas."
   ]
  },
  {
   "cell_type": "code",
   "execution_count": null,
   "id": "255e35b8",
   "metadata": {},
   "outputs": [],
   "source": [
    "candidate = \"Gustavo\"\n",
    "score = 100.2\n",
    "print(f\"The candidate {candidate} got a score of: {score}\")"
   ]
  },
  {
   "cell_type": "code",
   "execution_count": null,
   "id": "9f1ac513",
   "metadata": {},
   "outputs": [],
   "source": [
    "print(f\"Because I am {happy}\")"
   ]
  },
  {
   "cell_type": "markdown",
   "id": "db1a5460",
   "metadata": {},
   "source": [
    "Podemos obtener la longitud de una cadena con `len` y acceder a caracteres con corchetes `[]`"
   ]
  },
  {
   "cell_type": "code",
   "execution_count": null,
   "id": "3abe4553",
   "metadata": {},
   "outputs": [],
   "source": [
    "my_string = 'This is my awesome string'\n",
    "print(len(my_string))\n",
    "print(my_string[3])  # Acceder al carácter en índice 3"
   ]
  },
  {
   "cell_type": "markdown",
   "id": "446332a3",
   "metadata": {},
   "source": [
    "Los corchetes también sirven para rebanar cadenas, misma lógica que en listas."
   ]
  },
  {
   "cell_type": "code",
   "execution_count": null,
   "id": "62dd92d9",
   "metadata": {},
   "outputs": [],
   "source": [
    "print(my_string[6:])  # Desde índice 6 hasta el final"
   ]
  },
  {
   "cell_type": "code",
   "execution_count": null,
   "id": "dfa17988",
   "metadata": {},
   "outputs": [],
   "source": [
    "print(my_string[-9:])  # Desde la posición 9 contando desde el final"
   ]
  },
  {
   "cell_type": "code",
   "execution_count": null,
   "id": "c645565a",
   "metadata": {},
   "outputs": [],
   "source": [
    "# Podemos usar operadores `in` y `not in` para verificar contención\n",
    "long_string = \"Abel, Luis, and Maria came to the party\"\n",
    "print(\"Luis\" in long_string)\n",
    "print(\"Roberta\" in long_string)"
   ]
  },
  {
   "cell_type": "markdown",
   "id": "6cb13550",
   "metadata": {},
   "source": [
    "Operadores como `+` y `*` permiten concatenación y repetición:"
   ]
  },
  {
   "cell_type": "code",
   "execution_count": null,
   "id": "0aa38654",
   "metadata": {},
   "outputs": [],
   "source": [
    "# Concatenación\n",
    "first_string=\"The answer is \"\n",
    "second_string = \"fourty two (42)\"\n",
    "third_string = \"... Trust me\"\n",
    "answer = first_string + second_string + third_string + \" !!!\"\n",
    "print(answer)"
   ]
  },
  {
   "cell_type": "code",
   "execution_count": null,
   "id": "9a778b57",
   "metadata": {},
   "outputs": [],
   "source": [
    "# Repetición\n",
    "first_string  = \"And he simply said... \"\n",
    "second_string = \"JA \" * 6  # JA JA JA JA JA JA\n",
    "repeated = first_string + second_string\n",
    "print(repeated)"
   ]
  },
  {
   "cell_type": "code",
   "execution_count": null,
   "id": "0f4bea50",
   "metadata": {},
   "outputs": [],
   "source": [
    "car = \"this\"\n",
    "type(car)"
   ]
  },
  {
   "cell_type": "markdown",
   "id": "d3bbd9a6",
   "metadata": {},
   "source": [
    "Los strings son objetos de clase `str` con métodos propios."
   ]
  },
  {
   "cell_type": "code",
   "execution_count": null,
   "id": "33b47486",
   "metadata": {},
   "outputs": [],
   "source": [
    "example = \"hello to my little world\"\n",
    "example_version_2 = (example.title())\n",
    "print(example_version_2)"
   ]
  },
  {
   "cell_type": "code",
   "execution_count": null,
   "id": "284ce35b",
   "metadata": {},
   "outputs": [],
   "source": [
    "message = \"Hello WORLD!, I feel embarrassed\"\n",
    "print(message)\n",
    "print(message.title())  # Capitalizar cada palabra\n",
    "print(message.upper())  # Mayúsculas\n",
    "print(message.lower())  # Minúsculas\n",
    "print(message.swapcase())  # Invertir mayúsculas/minúsculas\n",
    "print(message.startswith(\"Hello\"))  # Verificar inicio\n",
    "print(message.startswith(\"hello\"))"
   ]
  },
  {
   "cell_type": "code",
   "execution_count": null,
   "id": "b46ae1d7",
   "metadata": {},
   "outputs": [],
   "source": [
    "# Eliminar espacios en blanco o prefijos\n",
    "message = \"   https://helloworld.com   \"\n",
    "print(message.strip())  # Eliminar espacios"
   ]
  },
  {
   "cell_type": "code",
   "execution_count": null,
   "id": "6a221a59",
   "metadata": {},
   "outputs": [],
   "source": [
    "# Métodos encadenados\n",
    "message = \"   https://helloworld.com   \"\n",
    "print(message.strip().removeprefix('https://'))"
   ]
  },
  {
   "cell_type": "code",
   "execution_count": null,
   "id": "f092412d",
   "metadata": {},
   "outputs": [],
   "source": [
    "# Reemplazar subcadenas\n",
    "message = \"BMW is a brand of vehicles\"\n",
    "print(message.replace(\"BMW\", \"VW\"))"
   ]
  },
  {
   "cell_type": "code",
   "execution_count": null,
   "id": "7bd0169d",
   "metadata": {},
   "outputs": [],
   "source": [
    "# Dividir cadenas usando separadores\n",
    "message = \"Augusto,Julia,Karl\"\n",
    "print(message.split(\",\"))"
   ]
  },
  {
   "cell_type": "code",
   "execution_count": null,
   "id": "f73f2a0f",
   "metadata": {},
   "outputs": [],
   "source": [
    "# Unir elementos de una lista\n",
    "message = \"Augusto,Julia,Karl\"\n",
    "message_separated = message.split(\",\")\n",
    "print(f\"{happy}\".join(message_separated))"
   ]
  },
  {
   "cell_type": "markdown",
   "id": "0ea82f01",
   "metadata": {},
   "source": [
    "# Ejercicio:\n",
    "#### Tu software recibe mensajes con datos de clientes en formato incorrecto:\n",
    "\n",
    "    https://database.com/user/augustom,AugUSto Martin, 23, Approved,,\n",
    "    https://database.com/user/juliasch,JuLIA SchmidT, 67, rejected,,\n",
    "    https://database.com/user/kmarx,Karl Marx, 42, rejected,,\n",
    "\n",
    "#### Se necesita procesar en este formato:\n",
    "\n",
    "    message:  augustom,augustomartin,23,approved\n",
    "    message:  juliasch,juliaschmidt,67,rejected\n",
    "    message:  kmarx,karlmarx,42,rejected\n",
    "\n",
    "#### __Tarea__: Usar métodos de `str` para corregir los mensajes."
   ]
  },
  {
   "cell_type": "code",
   "execution_count": null,
   "id": "912b97fd",
   "metadata": {
    "lines_to_next_cell": 2
   },
   "outputs": [],
   "source": [
    "# Completa el código"
   ]
  },
  {
   "cell_type": "markdown",
   "id": "ff7287ac",
   "metadata": {},
   "source": [
    "### Números\n",
    "Enteros y flotantes. Operadores aritméticos: `+`, `-`, `*`, `/`, etc."
   ]
  },
  {
   "cell_type": "code",
   "execution_count": null,
   "id": "5b828959",
   "metadata": {},
   "outputs": [],
   "source": [
    "2 * 3 + 2  # Expresión que retorna 8"
   ]
  },
  {
   "cell_type": "code",
   "execution_count": null,
   "id": "235d7695",
   "metadata": {},
   "outputs": [],
   "source": [
    "# Variables con números\n",
    "pi = 3.1416\n",
    "radio = 2\n",
    "print(2 * pi * radio )"
   ]
  },
  {
   "cell_type": "markdown",
   "id": "3afca53b",
   "metadata": {},
   "source": [
    "Operadores aritméticos:\n",
    "|Operador |\tNombre      |\tEjemplo|\n",
    "|---------|-------------|---------|\n",
    "|+ \t    |Suma         |\tx + y \t|\n",
    "|- \t    |Resta        |\tx - y   |\n",
    "|* \t    |Multiplicación |x * y |\n",
    "|/ \t    |División     |\tx / y \t|\n",
    "|% \t    |Módulo       |\tx % y \t|\n",
    "|** \t    |Exponenciación |\tx ** |\n",
    "|// \t    |División entera |\tx // y|"
   ]
  },
  {
   "cell_type": "code",
   "execution_count": null,
   "id": "c80a6fda",
   "metadata": {},
   "outputs": [],
   "source": [
    "print('Suma: ', 2+3)\n",
    "print('Resta: ',2-3)\n",
    "print('Multiplicación: ',2*3)\n",
    "print('División: ',2/3)\n",
    "print('Módulo: ',10%3)\n",
    "print('Exponenciación: ',2**3)\n",
    "print('División entera: ',10//3)"
   ]
  },
  {
   "cell_type": "code",
   "execution_count": null,
   "id": "71c3ff65",
   "metadata": {},
   "outputs": [],
   "source": [
    "# Funciones incorporadas para números\n",
    "print(\"Redondear: \", round(3.5))\n",
    "print(\"Valor absoluto: \", abs(-3.8))\n",
    "print(\"Potencia: \", pow(2,3))"
   ]
  },
  {
   "cell_type": "markdown",
   "id": "d59880dc",
   "metadata": {},
   "source": [
    "# Ejercicio:\n",
    "#### __Tarea__: Calcular la longitud de arco de un ángulo\n",
    "#### Resultado esperado:\n",
    "#### Diámetro del círculo: 9\n",
    "#### Ángulo: 45\n",
    "#### Longitud de arco: 3.5357142857142856"
   ]
  },
  {
   "cell_type": "markdown",
   "id": "de74e8f5",
   "metadata": {},
   "source": [
    "### Listas\n",
    "Estructuras para almacenar conjuntos de información ordenados.\n",
    "- Pueden contener cualquier tipo de objeto.\n",
    "- Se crean con `[]`, `list()` o comprensiones de listas."
   ]
  },
  {
   "cell_type": "code",
   "execution_count": null,
   "id": "1d2ebdaa",
   "metadata": {},
   "outputs": [],
   "source": [
    "# Literales de lista\n",
    "my_list = [1,2,3,4]\n",
    "print(my_list)\n",
    "print(\"Tipo de objeto: \", type(my_list))"
   ]
  },
  {
   "cell_type": "code",
   "execution_count": null,
   "id": "246451b3",
   "metadata": {},
   "outputs": [],
   "source": [
    "# Constructor list()\n",
    "print(list([1,2,3,4]))\n",
    "print(list(\"Hello World!\"))"
   ]
  },
  {
   "cell_type": "code",
   "execution_count": null,
   "id": "9b7e89aa",
   "metadata": {},
   "outputs": [],
   "source": [
    "# Listas con múltiples tipos\n",
    "print([1, 2.0, 'Juan'])"
   ]
  },
  {
   "cell_type": "code",
   "execution_count": null,
   "id": "4cfe62ac",
   "metadata": {},
   "outputs": [],
   "source": [
    "# Indexación y rebanado\n",
    "my_list = [1,34,56,6,93,12,45,67]\n",
    "print(my_list[2])\n",
    "print(my_list[5:])\n",
    "print(my_list[-2:])"
   ]
  },
  {
   "cell_type": "code",
   "execution_count": null,
   "id": "0fab125c",
   "metadata": {},
   "outputs": [],
   "source": [
    "brands = [\"BMW\", \"VW\", \"Renault\"]\n",
    "print(f\"The brand I like the most is {brands[2]}\")"
   ]
  },
  {
   "cell_type": "code",
   "execution_count": null,
   "id": "c667b302",
   "metadata": {},
   "outputs": [],
   "source": [
    "# Añadir elementos\n",
    "brands = [\"BMW\", \"VW\"]\n",
    "brands.append('Renault')"
   ]
  },
  {
   "cell_type": "code",
   "execution_count": null,
   "id": "51725954",
   "metadata": {},
   "outputs": [],
   "source": [
    "# Modificar elementos\n",
    "brands[0] = 'Porsche'"
   ]
  },
  {
   "cell_type": "code",
   "execution_count": null,
   "id": "ac7bd1ed",
   "metadata": {},
   "outputs": [],
   "source": [
    "# Eliminar elementos\n",
    "del brands[0]\n",
    "popped_brand = brands.pop(0)\n",
    "brands.remove('BMW')"
   ]
  },
  {
   "cell_type": "code",
   "execution_count": null,
   "id": "f9d812d1",
   "metadata": {},
   "outputs": [],
   "source": [
    "# Ordenar listas\n",
    "brands = [\"BMW\", \"VW\", \"renault\",\"BMW\",\"BMW\"]\n",
    "brands.sort()\n",
    "brands.sort(reverse=True)"
   ]
  },
  {
   "cell_type": "code",
   "execution_count": null,
   "id": "eca362b3",
   "metadata": {},
   "outputs": [],
   "source": [
    "# List comprehension para modificar elementos\n",
    "brands = [name.lower() for name in brands]\n",
    "brands = [name.upper() for name in sorted(brands)]"
   ]
  },
  {
   "cell_type": "code",
   "execution_count": null,
   "id": "0de1683f",
   "metadata": {},
   "outputs": [],
   "source": [
    "# Operadores en listas\n",
    "brands_EU = [\"BMW\", \"VW\", \"RENAULT\",\"BMW\",\"BMW\"]\n",
    "brands_USA= [\"GMC\",\"TESLA\"]\n",
    "all_brands = brands_EU + brands_USA\n",
    "print(brands_USA * 2)"
   ]
  }
 ],
 "metadata": {
  "jupytext": {
   "cell_metadata_filter": "-all",
   "main_language": "python",
   "notebook_metadata_filter": "-all"
  }
 },
 "nbformat": 4,
 "nbformat_minor": 5
}
