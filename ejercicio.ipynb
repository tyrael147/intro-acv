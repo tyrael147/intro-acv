{
 "cells": [
  {
   "cell_type": "markdown",
   "id": "c148a413",
   "metadata": {
    "lines_to_next_cell": 3
   },
   "source": [
    "\n",
    "🚧 Manos a la Obra:\n",
    "\n",
    "    Ahora tienen todas las herramientas.\n",
    "    El negocio de las bicicletas sigue en aumento y es momento que consideres aumentar la producción. Eres consciente que si deseas llegar a más mercados, deberás proporcionar más información a los mayoristas, sobretodo en el es aspecto ambiental\n",
    "    Los ingenieros han sugerido considerar la importación de aluminio chino e incluso llevar las plantas de producción a china.\n",
    "    Tu trabajo es construir dos modelos y explorar las posibles diferencias entre producir bicicletas en Perú y producirlas en China.\n",
    "    Debes considerar lo siguiente. :\n",
    "\n",
    "    Los consumos estimados por bicicleta son:\n",
    "\n",
    "        345 kwh de energía\n",
    "        5 kg de acero\n",
    "        25 kg de aluminio\n",
    "        El producto final pesa 24kgs\n",
    "        Se consumen alrededor de 15 litros diesel"
   ]
  }
 ],
 "metadata": {
  "jupytext": {
   "cell_metadata_filter": "-all",
   "main_language": "python",
   "notebook_metadata_filter": "-all"
  }
 },
 "nbformat": 4,
 "nbformat_minor": 5
}
