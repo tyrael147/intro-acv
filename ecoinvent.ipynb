{
 "cells": [
  {
   "cell_type": "markdown",
   "id": "3f22c1a7",
   "metadata": {},
   "source": [
    "# Introduccion a brightway - pt. 2\n",
    "\n",
    "En esta seccion hablaremos de los conceptos fundamentales de brigthway. Es importante aclarar que toda esta informacion esta disponible en linea en la pagina de documentacion: \n",
    "\n",
    "https://docs.brightway.dev/en/latest/index.html"
   ]
  },
  {
   "cell_type": "markdown",
   "id": "b9243b5e",
   "metadata": {},
   "source": [
    "Este notebook se ejecutara en una nueva sesion, por lo que necesitamos instalar las dependencias una vez mas."
   ]
  },
  {
   "cell_type": "code",
   "execution_count": null,
   "id": "0baffc82",
   "metadata": {},
   "outputs": [],
   "source": [
    "!pip install bw2calc==2.0.dev17 -q # Paquete de brightway\n",
    "!pip install bw2data==4.4.3 -q # Paquete de brightway\n",
    "!pip install bw2io==0.9.dev41 -q # Paquete de brightway\n",
    "!pip install polars==0.20.15 -q \n",
    "!pip install pypardiso -q\n",
    "!pip install scipy==1.12.0 -q\n",
    "!pip install seaborn==0.13.2 -q"
   ]
  },
  {
   "cell_type": "markdown",
   "id": "714b5033",
   "metadata": {},
   "source": [
    "<div class=\"alert alert-block alert-warning\">\n",
    "⚠️ Debes restaurar la sesion!\n",
    "</div>\n"
   ]
  },
  {
   "cell_type": "markdown",
   "id": "e2e71e8b",
   "metadata": {},
   "source": [
    "Debemos descarg un archivo de respaldo que contiene ecoinvent. Para ellos tenemos que autenticar nuestro usuario de **gmail** que fue creado anteriormente."
   ]
  },
  {
   "cell_type": "code",
   "execution_count": null,
   "id": "d8faac12",
   "metadata": {},
   "outputs": [],
   "source": [
    "from google.colab import auth\n",
    "from pydrive.auth import GoogleAuth\n",
    "from pydrive.drive import GoogleDrive\n",
    "from oauth2client.client import GoogleCredentials\n",
    "\n",
    "auth.authenticate_user()\n",
    "gauth = GoogleAuth()\n",
    "gauth.credentials = GoogleCredentials.get_application_default()\n",
    "drive = GoogleDrive(gauth)\n",
    "drive.CreateFile({'id': '1rURV7gYeQc_cD0d9chMtVzHraE4eJsT_'}).GetContentFile('backup.tar.gz')"
   ]
  },
  {
   "cell_type": "code",
   "execution_count": null,
   "id": "d29965b8",
   "metadata": {},
   "outputs": [],
   "source": [
    "# Verificamos\n",
    "!du -hs backup.tar.gz"
   ]
  },
  {
   "cell_type": "code",
   "execution_count": null,
   "id": "4e6db63e",
   "metadata": {},
   "outputs": [],
   "source": [
    "import bw2data as bd\n",
    "import bw2io as bi\n",
    "import bw2calc as bc\n",
    "from rich import print"
   ]
  },
  {
   "cell_type": "markdown",
   "id": "9fa85f69",
   "metadata": {},
   "source": [
    "### Importar el backup del proyecto\n",
    "Este modalidad no require mucha explicacion: El proyecto se carga nuevamente. "
   ]
  },
  {
   "cell_type": "code",
   "execution_count": null,
   "id": "06c2bae9",
   "metadata": {},
   "outputs": [],
   "source": [
    "bi.restore_project_directory(\n",
    "    'backup.tar.gz',  # nombre del archivo, creado celdas arriba\n",
    "    project_name='proyecto_ei', # Se puede elegir un nombre nuevo para el proyecto\n",
    "    overwrite_existing = False\n",
    "    )"
   ]
  },
  {
   "cell_type": "markdown",
   "id": "95240246",
   "metadata": {},
   "source": [
    "## Importar bases de datos comerciales\n",
    "Hemos aprendido a construir un modelo de ACV desde cero y de forma manual. Aunque esto resulta bastante util, en la realidad solemos combinar nuestros datos con aquellos provenientes de bases de datos comerciales. En esta seccion nos enfocaremos en la base de datos ecoinvent (v3.9), que es una de las mas utilizadas en el sector. \n",
    "\n",
    "En la actualidad hay dos maneras de importar los datos de ecoinvent en nuestro proyecto:\n",
    "- Leyendo los archivos ecospold2 crudos directamente del disco y convirtiendolos en una base de datos de brigthway.\n",
    "- Utilizando la herramienta `import_ecoinvent_release` que descarga la base de datos desde un servidor remoto.\n",
    "  \n",
    "### Importando ecoinvent (crudo) desde el disco\n",
    "\n",
    "Para este caso, es necesario haber descargado ecoinvent. Ecoinvent es distribuido en formato comprimido 7z, y contiene todas las actividades en formato ecospold2 (algo similar a XML). `bw2io` tiene funciones disenadas para interpretar la informacion, verificar que los `exchanges` sean correctos, y que los nodos de la biosfera existan en la base de datos 'biosphere3'.\n"
   ]
  },
  {
   "cell_type": "code",
   "execution_count": null,
   "id": "cc51cf79",
   "metadata": {},
   "outputs": [],
   "source": []
  },
  {
   "cell_type": "code",
   "execution_count": null,
   "id": "c32e21e5",
   "metadata": {},
   "outputs": [],
   "source": [
    "# Para importar, hay que seguir los siguentes pasos:\n",
    "# 1. Leer los archivos XML e dejar que brigthway los interprete.\n",
    "# db = bi.SingleOutputEcospold2Importer(dirpath='<datasets-folder>',db_name='ecoinvent39')"
   ]
  },
  {
   "cell_type": "code",
   "execution_count": null,
   "id": "aaeb7923",
   "metadata": {},
   "outputs": [],
   "source": [
    "# 2. Aplicar una serie de estrategias para asegurarse que no existe informacion corrupta y que la importacion es posible\n",
    "# db.apply_strategies()"
   ]
  },
  {
   "cell_type": "code",
   "execution_count": null,
   "id": "2df40760",
   "metadata": {},
   "outputs": [],
   "source": [
    "# 3. Ecoinvent esta listo en la memoria pero aun no ha sido grabado en el disco. \n",
    "# Hay que grabarlo en el disco.\n",
    "# db.write_database()"
   ]
  },
  {
   "cell_type": "markdown",
   "id": "963e16f8",
   "metadata": {},
   "source": [
    "Para verificar que ha sido importado correctamente, podemos repetir el ejercicio realizado con la base de datos 'biosphere3' de la anterior seccion.bd.databases"
   ]
  },
  {
   "cell_type": "code",
   "execution_count": null,
   "id": "d207077c",
   "metadata": {},
   "outputs": [],
   "source": [
    "# bd.databases # Lista de las bases de datos"
   ]
  },
  {
   "cell_type": "code",
   "execution_count": null,
   "id": "1b589636",
   "metadata": {},
   "outputs": [],
   "source": [
    "# ei = bd.Database('ecoinvent39')\n",
    "# len(ei) # Muestra la cantidad de elementos"
   ]
  },
  {
   "cell_type": "markdown",
   "id": "1ecb757c",
   "metadata": {},
   "source": [
    "### Importando ecoinvent desde un servidor remoto\n",
    "Para este caso utilizamos la funcion `bw2io.import_ecoinvent_release` que se encarga de 1) instalar una biosfera, 2) instalar los metodos de impacto mas actuales, y 3) instalar la base de datos ecoinvent. \n",
    "Como podran imaginar, requiere la autenticacion del usuario que debe poseer un cuenta de acceso ecoinvent"
   ]
  },
  {
   "cell_type": "code",
   "execution_count": null,
   "id": "f7ebf24f",
   "metadata": {
    "lines_to_next_cell": 2
   },
   "outputs": [],
   "source": [
    "# bw2io.import_ecoinvent_release(\n",
    "#     version=\"3.9\" \n",
    "#     system_model=\"cutoff\", # Otras opciones son: \"consequential\", \"apos\" y \"EN15804\"\n",
    "#     username=\"xxxx\", # Tu usuario\n",
    "#     password=\"xxxx\", # Tu clave\n",
    "#     biosphere_name=\"biosphere\" # Optional, puedes guardar la base de datos de la biosfera con otro nombre.\n",
    "# )"
   ]
  },
  {
   "cell_type": "markdown",
   "id": "85444a42",
   "metadata": {},
   "source": [
    "### Explorando Ecoinvent"
   ]
  },
  {
   "cell_type": "code",
   "execution_count": null,
   "id": "a91670b9",
   "metadata": {},
   "outputs": [],
   "source": [
    "bd.projects.set_current(\"proyecto_ei\")\n",
    "ei = bd.Database('ecoinvent-3.10-cutoff')\n",
    "seleccionado = ei.random() # Explora las actividades\n",
    "print(seleccionado.as_dict())"
   ]
  },
  {
   "cell_type": "markdown",
   "id": "10ba9fe2",
   "metadata": {},
   "source": [
    "Como pueden notar, el contenido de la actividad ecoinvent es bastante rica. Existen campos fuera de `name`, `code`,`location` y `unit` que son nuevos para nosotros, lo que demuestra que brightway es lo suficientemente flexible al definir una actividad. \n",
    "\n",
    "Lo que vimos en la celda anterior describe a una actividad, pero aun no describe sus conexiones (`exchanges`). Para acceder a ellas, hay que utilizar las funciones `exchanges`, `technosphere` o `biosphere`, segun lo que se desee observar."
   ]
  },
  {
   "cell_type": "code",
   "execution_count": null,
   "id": "69e97bd9",
   "metadata": {},
   "outputs": [],
   "source": [
    "# `exchanges` retorna un objeto the brightway que no es nativo de python\n",
    "type(seleccionado.exchanges())"
   ]
  },
  {
   "cell_type": "code",
   "execution_count": null,
   "id": "375f859b",
   "metadata": {
    "lines_to_next_cell": 2
   },
   "outputs": [],
   "source": [
    "# Si deseamos leerlo al estilo de una lista, hay que convertirlo en una lista.\n",
    "print(list(seleccionado.exchanges()))"
   ]
  },
  {
   "cell_type": "code",
   "execution_count": null,
   "id": "43833d7c",
   "metadata": {},
   "outputs": [],
   "source": [
    "# Si deseamos solo la tecnosfera, usamos la funcion correspondiente\n",
    "print(list(seleccionado.technosphere()))"
   ]
  },
  {
   "cell_type": "markdown",
   "id": "f797ee73",
   "metadata": {},
   "source": [
    "La impresion realizada en la celda de arriba nos muestra la informacion necesaria para poder construir las matrices. Sin embargo, brightway nos permite manipular el `exchange` y acceder a su metadata."
   ]
  },
  {
   "cell_type": "code",
   "execution_count": null,
   "id": "d8ca50f4",
   "metadata": {},
   "outputs": [],
   "source": [
    "# Seleccionamos el segundo `exchange`de la lista\n",
    "exchange = list(seleccionado.technosphere())[1]\n",
    "print(exchange.as_dict())"
   ]
  },
  {
   "cell_type": "markdown",
   "id": "34c0ed34",
   "metadata": {},
   "source": [
    "## Opciones de busqueda\n",
    "Como podran imaginar, manipular una base de datos con tantas actividades (~21k) es bastante complicado. Podemos utilizar funciones nativas de python (list comprehension) para realizar una busqueda."
   ]
  },
  {
   "cell_type": "code",
   "execution_count": null,
   "id": "ef2b414f",
   "metadata": {},
   "outputs": [],
   "source": [
    "truck = [x for x in ei if x['name'] == 'transport, freight, lorry >32 metric ton, EURO5'][0]\n",
    "truck"
   ]
  },
  {
   "cell_type": "markdown",
   "id": "c8df1201",
   "metadata": {},
   "source": [
    "Esta manera de buscar es mas 'pythonic'. Sin embargo, tambien puedes usar el buscador de brightway a traves de la funcion `search`."
   ]
  },
  {
   "cell_type": "code",
   "execution_count": null,
   "id": "2ff409d5",
   "metadata": {},
   "outputs": [],
   "source": [
    "ei.search('transport, freight RoW >32 EURO5')"
   ]
  },
  {
   "cell_type": "code",
   "execution_count": null,
   "id": "e8ca4d06",
   "metadata": {},
   "outputs": [],
   "source": [
    "ei.search?? # La funcion search prioriza algunos campos para hacer el filtro."
   ]
  },
  {
   "cell_type": "markdown",
   "id": "9e4165ef",
   "metadata": {},
   "source": [
    "# Introduccion a brightway - pt. 3\n",
    "\n",
    "En esta seccion hablaremos de los conceptos fundamentales de brigthway. Es importante aclarar que toda esta informacion esta disponible en linea en la pagina de documentacion: \n",
    "\n",
    "https://docs.brightway.dev/en/latest/index.html"
   ]
  },
  {
   "cell_type": "markdown",
   "id": "ba59fc43",
   "metadata": {},
   "source": [
    "## Explorando las matrices\n",
    "Ahora que sabemos como crear un actividad y metodos desde cero. Podemos concentrarnos en manipular las actividades que estan presentes en ecoinvent.\n",
    "Para esta parte usaremos un proyecto que hemos preparado para ustedes que contiene una biosfera y tecnosfera compatible con ecoinvent v3.9"
   ]
  },
  {
   "cell_type": "code",
   "execution_count": null,
   "id": "794091d7",
   "metadata": {
    "lines_to_next_cell": 2
   },
   "outputs": [],
   "source": [
    "import bw2data as bd\n",
    "import bw2io as bi\n",
    "import bw2calc as bc\n",
    "from rich import print"
   ]
  },
  {
   "cell_type": "code",
   "execution_count": null,
   "id": "9717e8a4",
   "metadata": {},
   "outputs": [],
   "source": [
    "# Tenemos dos bases de datos\n",
    "bd.databases"
   ]
  },
  {
   "cell_type": "code",
   "execution_count": null,
   "id": "2e4ebd4c",
   "metadata": {},
   "outputs": [],
   "source": [
    "# seleccionamos la base de datos ecoinvent y una actividad que tomaremos de ejemplo\n",
    "ei = bd.Database(\"ecoinvent-3.9.1-cutoff\")\n",
    "harina = ei.search('fishmeal PE 65-67')[0]\n",
    "harina"
   ]
  },
  {
   "cell_type": "code",
   "execution_count": null,
   "id": "8a43e5e3",
   "metadata": {
    "lines_to_next_cell": 2
   },
   "outputs": [],
   "source": [
    "# Elegimos un metodo que ya esta instalado y hace un LCA pero nos detenemos en la etapa de LCI\n",
    "method=('IPCC 2021', 'climate change', 'global warming potential (GWP100)')\n",
    "lca = bc.LCA({harina:1},method=method) # Instancia la clase\n",
    "lca.lci() # calcula el inventario de ciclo de vida"
   ]
  },
  {
   "cell_type": "code",
   "execution_count": null,
   "id": "a3f3df32",
   "metadata": {},
   "outputs": [],
   "source": [
    "# Recordemos que ecoinvent tiene 21238 actividades\n",
    "# Entonces que dimensiones deberia tener la matriz de la tecnosfera?\n",
    "lca.technosphere_matrix.array()"
   ]
  },
  {
   "cell_type": "code",
   "execution_count": null,
   "id": "35f3d87c",
   "metadata": {},
   "outputs": [],
   "source": [
    "# Que dimensiones deberia tener el vector s?\n",
    "lca.supply_array()"
   ]
  },
  {
   "cell_type": "code",
   "execution_count": null,
   "id": "ea961ea2",
   "metadata": {},
   "outputs": [],
   "source": [
    "# Si quisiera saber cuanto de 'anchoveta pescada en embarcaciones de madera' \n",
    "# se requiere en TOTAL para producir 1 kg de harina de pescado...\n",
    "anchoveta = ei.search('anchovy PE wooden')[1]\n",
    "anchoveta"
   ]
  },
  {
   "cell_type": "code",
   "execution_count": null,
   "id": "2cdf5929",
   "metadata": {},
   "outputs": [],
   "source": [
    "# el lca.activity_dict me permite ubicar una actividad en la matriz.\n",
    "lca.supply_array[lca.activity_dict[anchoveta.id]]"
   ]
  },
  {
   "cell_type": "code",
   "execution_count": null,
   "id": "49fbf8ed",
   "metadata": {},
   "outputs": [],
   "source": [
    "# Ahora continuamos con el LCIA\n",
    "lca.lcia() # Calcula los impactos \n",
    "print(\"El impacto es: \", lca.score) "
   ]
  },
  {
   "cell_type": "markdown",
   "id": "2e88b8bd",
   "metadata": {},
   "source": [
    "## Analisis de contribuciones\n",
    "Para entender las distintas contribuciones, tenemos que seguir utilizando el objeto LCA.\n",
    "Este objeto mantiene los resultados del ACV en memoria"
   ]
  },
  {
   "cell_type": "markdown",
   "id": "12b98046",
   "metadata": {},
   "source": [
    "### Procesos mas importantes\n",
    "Para listar los procesos que generan mas impactos utilizaremos el paquete `bw2analyzer` y `pandas`."
   ]
  },
  {
   "cell_type": "code",
   "execution_count": null,
   "id": "cc5e21a1",
   "metadata": {},
   "outputs": [],
   "source": [
    "import pandas as pd\n",
    "import bw2analyzer as ba\n",
    "# ba.ContributionAnalysis().annotated_top_processes(lca=lca) # dificil de visulizar\n",
    "ba.ContributionAnalysis.annotated_top_processes??"
   ]
  },
  {
   "cell_type": "code",
   "execution_count": null,
   "id": "ec625564",
   "metadata": {},
   "outputs": [],
   "source": [
    "\n",
    "pd.DataFrame(\n",
    "    [(x, y, z[\"name\"]) for x, y, z in ba.ContributionAnalysis().annotated_top_processes(lca=lca)],\n",
    "    columns=[\"score\", \"quantity\", \"name\"]\n",
    ")"
   ]
  },
  {
   "cell_type": "markdown",
   "id": "127189f2",
   "metadata": {},
   "source": [
    "### Emisiones mas importantes\n",
    "De manera similar, podemos obtener el ranking de flujos ambiental que generan mayores impactos"
   ]
  },
  {
   "cell_type": "code",
   "execution_count": null,
   "id": "66dcac7a",
   "metadata": {
    "lines_to_next_cell": 2
   },
   "outputs": [],
   "source": [
    "import pandas as pd\n",
    "import bw2analyzer as ba\n",
    "pd.DataFrame(\n",
    "    [(x, y, z[\"name\"]) for x, y, z in ba.ContributionAnalysis().annotated_top_emissions(lca=lca)],\n",
    "    columns=[\"score\", \"quantity\", \"name\"]\n",
    ")"
   ]
  },
  {
   "cell_type": "markdown",
   "id": "8fdbfc29",
   "metadata": {},
   "source": [
    "La importancia de las emisiones en el impacto tiene que ver con la cantidad y con los factores de caracterizacion. \n",
    "Podemos listar estos factores para revisarlos"
   ]
  },
  {
   "cell_type": "code",
   "execution_count": null,
   "id": "27b7a6c8",
   "metadata": {
    "lines_to_next_cell": 2
   },
   "outputs": [],
   "source": [
    "for key, cf in bd.Method(method).load():\n",
    "    # print(key, cf)\n",
    "    print(bd.get_node(id=key), \"CF: \",cf)"
   ]
  },
  {
   "cell_type": "markdown",
   "id": "de269d6a",
   "metadata": {},
   "source": [
    "## Analisis de incertidumbre\n",
    "Realizar simulaciones de Monte Carlo es tan facil que requiere modificar una sola linea de la clase LCA."
   ]
  },
  {
   "cell_type": "code",
   "execution_count": null,
   "id": "967e588f",
   "metadata": {
    "lines_to_next_cell": 2
   },
   "outputs": [],
   "source": [
    "lca = bc.LCA(\n",
    "    {harina:1},\n",
    "    method=method,\n",
    "    use_distributions=True # Esto es nuevo\n",
    ") # Instancia la clase\n",
    "\n",
    "# El objeto LCA es ahora un 'generator'.\n",
    "# Es decir que podemos iterarlo las veces que necesitemos\n"
   ]
  },
  {
   "cell_type": "code",
   "execution_count": null,
   "id": "484c908e",
   "metadata": {},
   "outputs": [],
   "source": [
    "# Avanzamos un paso\n",
    "next(lca)\n",
    "\n",
    "results= []\n",
    "# iteramos 50 veces, es decir muestreamos 100 veces.\n",
    "for i in range(50):\n",
    "    lca.lci()\n",
    "    lca.lcia()\n",
    "    results.append(lca.score)\n",
    "    next(lca)"
   ]
  },
  {
   "cell_type": "code",
   "execution_count": null,
   "id": "a1aedbd7",
   "metadata": {},
   "outputs": [],
   "source": [
    "# Tenemos una lista de resultados \n",
    "# que, en promedio deberia aproximarse a 0.44\n",
    "results"
   ]
  },
  {
   "cell_type": "code",
   "execution_count": null,
   "id": "8a5c0176",
   "metadata": {},
   "outputs": [],
   "source": [
    "# Podemos utilizar el paquete `seaborn` para visualizar la dispersion de los impactos\n",
    "import seaborn as sns\n",
    "sns.histplot(results)"
   ]
  },
  {
   "cell_type": "code",
   "execution_count": null,
   "id": "36c7ae0c",
   "metadata": {
    "lines_to_next_cell": 2
   },
   "outputs": [],
   "source": []
  }
 ],
 "metadata": {
  "jupytext": {
   "cell_metadata_filter": "-all",
   "main_language": "python",
   "notebook_metadata_filter": "-all"
  }
 },
 "nbformat": 4,
 "nbformat_minor": 5
}
