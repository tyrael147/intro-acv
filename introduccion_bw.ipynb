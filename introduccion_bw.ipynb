{
 "cells": [
  {
   "cell_type": "markdown",
   "id": "5497f4a1",
   "metadata": {},
   "source": [
    "# Introducción a brightway - pt. 1\n",
    "\n",
    "En esta seccion hablaremos de los conceptos fundamentales de brigthway. Es importante aclarar que toda esta informacion esta disponible en linea en la pagina de documentacion: \n",
    "\n",
    "https://docs.brightway.dev/en/latest/index.html"
   ]
  },
  {
   "cell_type": "markdown",
   "id": "12bb7030",
   "metadata": {},
   "source": [
    "## Instala las brightway y las dependencias necesarias"
   ]
  },
  {
   "cell_type": "code",
   "execution_count": null,
   "id": "81fba2db",
   "metadata": {},
   "outputs": [],
   "source": [
    "!pip install bw2calc==2.0.dev17 -q # Paquete de brightway\n",
    "!pip install bw2data==4.0.dev42 -q # Paquete de brightway\n",
    "!pip install bw2io==0.9.dev27 -q # Paquete de brightway\n",
    "!pip install polars==0.20.15 -q \n",
    "!pip install pypardiso -q\n",
    "!pip install scipy==1.12.0 -q\n",
    "!pip install seaborn==0.13.2 -q"
   ]
  },
  {
   "cell_type": "markdown",
   "id": "aa4eeb81",
   "metadata": {},
   "source": [
    "<div class=\"alert alert-block alert-warning\">\n",
    "⚠️ Debes restaurar la sesion!\n",
    "</div>\n"
   ]
  },
  {
   "cell_type": "markdown",
   "id": "80ab21ef",
   "metadata": {
    "lines_to_next_cell": 0
   },
   "source": [
    "## Configura tu proyecto brightway\n",
    "Debido al gran tamano de las bases de datos utilizadas en ACV, brightway require grabar cierta informacion en disco. \n",
    "Por esta razon, cada vez que se crea un proyecto nuevo es necesario configurarlo.\n",
    "\n",
    "El primer paso consiste en importar las dependencias necesarias:"
   ]
  },
  {
   "cell_type": "code",
   "execution_count": null,
   "id": "e75c128d",
   "metadata": {},
   "outputs": [],
   "source": [
    "import bw2data as bd\n",
    "import bw2io as bi\n",
    "import bw2calc as bc\n",
    "from rich import print"
   ]
  },
  {
   "cell_type": "markdown",
   "id": "5f0a4642",
   "metadata": {},
   "source": [
    "Podemos ver la lista de proyectos existentes utilizando el modulo `bw2data`:"
   ]
  },
  {
   "cell_type": "code",
   "execution_count": null,
   "id": "3dcff228",
   "metadata": {},
   "outputs": [],
   "source": [
    "print('bw2data version: ',bd.__version__)\n",
    "print('bw2io version: ',bi.__version__)\n",
    "print('bw2calc version: ',bc.__version__)"
   ]
  },
  {
   "cell_type": "code",
   "execution_count": null,
   "id": "e817c9e8",
   "metadata": {},
   "outputs": [],
   "source": [
    "bd.projects"
   ]
  },
  {
   "cell_type": "markdown",
   "id": "3ac03db8",
   "metadata": {},
   "source": [
    "Cualquier entorno de ejecucion de python que importe al paquete `bw2data` estara configurado con el proyecto ``default`` por defecto.\n"
   ]
  },
  {
   "cell_type": "code",
   "execution_count": null,
   "id": "88620558",
   "metadata": {},
   "outputs": [],
   "source": [
    "bd.projects.current"
   ]
  },
  {
   "cell_type": "markdown",
   "id": "c46cae1d",
   "metadata": {},
   "source": [
    "En caso que desee cambiar de proyecto, la funcion `bw2data.set_current(<el-nombre-de-tu-proyecto>)` permite elegir un proyecto existente. En el caso que el proyecto no exista, esta funcion creara un proyecto nuevo."
   ]
  },
  {
   "cell_type": "code",
   "execution_count": null,
   "id": "ec94994f",
   "metadata": {},
   "outputs": [],
   "source": [
    "bd.projects.set_current('nuevo_proyecto')"
   ]
  },
  {
   "cell_type": "code",
   "execution_count": null,
   "id": "5f1ec447",
   "metadata": {},
   "outputs": [],
   "source": [
    "# Puede ver que 'nuevo_proyecto' aparece ahora en la lista de proyectos.\n",
    "bd.projects"
   ]
  },
  {
   "cell_type": "markdown",
   "id": "9866a28e",
   "metadata": {},
   "source": [
    "<div class=\"alert alert-block alert-warning\">\n",
    "⚠️ Todas las modificaciones realizadas por los distintos modulos de brightway se realizan EXCLUSIVAMENTE en el contexto del proyecto. Por ello es importante verificar que trabaja con el proyecto correcto.\n",
    "</div>\n"
   ]
  },
  {
   "cell_type": "markdown",
   "id": "41ecb695",
   "metadata": {},
   "source": [
    "Para guardar registro de los proyectos y distinta informacion necesaria, `bw2data` grabara algunos archivos en el disco. Pueden existir casos (muy excepcionales) en los que necesites acceder a estos archivos de manera directa. Para ello puedes localizarlos utilizando la funcion `bw2data.projects.dir`"
   ]
  },
  {
   "cell_type": "markdown",
   "id": "22d6e52b",
   "metadata": {},
   "source": [
    "En caso desees realizar una copia del proyecto actual, puedes utilizar `bw2data.projects.copy_project`"
   ]
  },
  {
   "cell_type": "code",
   "execution_count": null,
   "id": "1d30359a",
   "metadata": {},
   "outputs": [],
   "source": [
    "bd.projects.copy_project(new_name=\"nuevo_proyecto_2\")"
   ]
  },
  {
   "cell_type": "code",
   "execution_count": null,
   "id": "8a1a8772",
   "metadata": {},
   "outputs": [],
   "source": [
    "# Verificamos\n",
    "bd.projects"
   ]
  },
  {
   "cell_type": "markdown",
   "id": "1b6de636",
   "metadata": {},
   "source": [
    "En caso desees eliminar un proyecto, puedes utilizar la funcion `bw2data.projects.delete_dir`"
   ]
  },
  {
   "cell_type": "code",
   "execution_count": null,
   "id": "62998928",
   "metadata": {
    "lines_to_next_cell": 2
   },
   "outputs": [],
   "source": [
    "# El argumento `delete_dir` es booleano e indica \n",
    "# si tambien se desea eliminar la carpeta que contiene los datos del proyecto.\n",
    "bd.projects.delete_project(name='nuevo_proyecto', delete_dir=True)"
   ]
  },
  {
   "cell_type": "markdown",
   "id": "436a978c",
   "metadata": {},
   "source": [
    "🚧 **Manos a la obra**:\n",
    "- Crea un nuevo proyecto llamado 'peru25'\n",
    "- Crea una copia de 'peru25' llamada 'peru25-prueba'\n",
    "- Activa el proyecto 'peru25'\n"
   ]
  },
  {
   "cell_type": "code",
   "execution_count": null,
   "id": "0b8e9960",
   "metadata": {},
   "outputs": [],
   "source": [
    "# Inserta el codigo aqui"
   ]
  },
  {
   "cell_type": "markdown",
   "id": "ec79ada3",
   "metadata": {},
   "source": [
    "## Creando una nueva biosfera\n",
    "Brightway esta fuertemente (pero no estrictamente) ligado a los modelos y esquemas utilizados por ecoinvent.\n",
    "Por esto, los metodos de impacto y flujos ambientales (biosfera) son aquellos proporcionados por ecoinvent a traves de su servicio ecoquery. \n",
    "Aunque los metodos son desarrollados por grupos de investigacion independientes, ecoinvent los centraliza y modifica a fin de que sean compatibles y listos para conectarse con su base de datos."
   ]
  },
  {
   "cell_type": "markdown",
   "id": "67f8ab22",
   "metadata": {},
   "source": [
    "Lo primero que haremos sera crear una biosfera (a la ecoinvent) y los multiples metodos de impacto disponibles por defecto.\n",
    "Para esto, el paquete `bw2io` cuenta con una funcion llama `bw2setup`, asi:"
   ]
  },
  {
   "cell_type": "code",
   "execution_count": null,
   "id": "d11b71f4",
   "metadata": {},
   "outputs": [],
   "source": [
    "bd.projects"
   ]
  },
  {
   "cell_type": "code",
   "execution_count": null,
   "id": "a9571eb7",
   "metadata": {},
   "outputs": [],
   "source": [
    "bd.projects.set_current('example_project')\n",
    "bd.databases"
   ]
  },
  {
   "cell_type": "code",
   "execution_count": null,
   "id": "29c93b5c",
   "metadata": {},
   "outputs": [],
   "source": [
    "# bi.bw2setup()"
   ]
  },
  {
   "cell_type": "markdown",
   "id": "ebee048f",
   "metadata": {},
   "source": [
    "El mensaje de la celda de arriba nos dice que `bw2io` ha creado una base de datos llamada 'biosphere3' que contiene 4709 nodos (flujos ambientales).\n",
    "Adicionalmente, 762 metodos de impacto nuevos han sido creados.\n"
   ]
  },
  {
   "cell_type": "markdown",
   "id": "b8c0e5bd",
   "metadata": {},
   "source": [
    "<div class=\"alert alert-block alert-info\">\n",
    "Diferentes grupos de investigacion actualizan constanmente distintos metodos de impacto. Por ello, cada version de `bw2io` puede presentar nuevos metodos de impacto. Puedes ver la version de bw2io asi: `bw2io.__version__`\n",
    "</div>"
   ]
  },
  {
   "cell_type": "markdown",
   "id": "d31e5ac8",
   "metadata": {},
   "source": [
    "La biosfera esta ahora almacenada en una base de datos. En la jerga de brightway, una base de datos no es mas que un objeto que permite acceder a los nodos contenidos en este. Podemos ver las bases de datos contenidas en este proyecto de la siguiente manera:"
   ]
  },
  {
   "cell_type": "code",
   "execution_count": null,
   "id": "a4f3d648",
   "metadata": {},
   "outputs": [],
   "source": [
    "# La base de datos 'biosphere3' tiene ese nombre por defecto. \n",
    "bd.databases"
   ]
  },
  {
   "cell_type": "markdown",
   "id": "41490a9f",
   "metadata": {},
   "source": [
    "Podemos manipular la biosfera asignando la base de datos a una nueva variable `biosfera` de la siguiente forma:"
   ]
  },
  {
   "cell_type": "code",
   "execution_count": null,
   "id": "d61c0c76",
   "metadata": {},
   "outputs": [],
   "source": [
    "biosfera = bd.Database('biosphere3')"
   ]
  },
  {
   "cell_type": "markdown",
   "id": "5d4d2c5c",
   "metadata": {},
   "source": [
    "Por ahora no exploraremos a detalle esta base de datos. Si embargo utilizaremos la funcion `random` que nos permite muestrear un nodo aleatorio para ver de que trata el contenido."
   ]
  },
  {
   "cell_type": "code",
   "execution_count": null,
   "id": "9c5e054b",
   "metadata": {
    "lines_to_next_cell": 2
   },
   "outputs": [],
   "source": [
    "# Ejecuta esta celda multiples veces y veras que siempre tienes respuestas diferentes.\n",
    "# biosfera.random()"
   ]
  },
  {
   "cell_type": "markdown",
   "id": "14d0e919",
   "metadata": {},
   "source": [
    "De manera similar, podemos explorar los diferentes metodos que fueron instalados previamente. En brightway, los metodos presentados como una combinacion de tres elementos: \n",
    "> (<'Nombre del metodo'>, <'Categoria de impacto'>, <'Indicador'>)"
   ]
  },
  {
   "cell_type": "code",
   "execution_count": null,
   "id": "3ca7aafe",
   "metadata": {},
   "outputs": [],
   "source": [
    "bd.methods \n",
    "# Hay que 'convertir' bw2data.methods en una lista para poder ver todos los metodos disponibles\n",
    "# list(bd.methods) "
   ]
  },
  {
   "cell_type": "markdown",
   "id": "0fd7c3f5",
   "metadata": {},
   "source": [
    "Buscar un metodo en una lista tan extensa puede ser muy problematico. \n",
    "Para facilitar la busqueda de una metodo en especifico, podemos utilizar el poder de python."
   ]
  },
  {
   "cell_type": "code",
   "execution_count": null,
   "id": "eae1f14c",
   "metadata": {},
   "outputs": [],
   "source": [
    "# bw2data.methods es un objeto sobre el que se puede iterar\n",
    "# Por ejemplo, busquemos un metodo relacionado con el cambio climatico\n",
    "for nombre, categoria, indicator in bd.methods:\n",
    "    if 'acidification' in category:\n",
    "        print((nombre, categoria, indicator))"
   ]
  },
  {
   "cell_type": "markdown",
   "id": "80090fbd",
   "metadata": {},
   "source": [
    "## Manipular bases de datos\n",
    "En la seccion anterior, dejamos que `bw2io.bw2setup` cree una base de datos nueva llamada 'biosphere3'. Una base de datos contiene nodos, ya sean de la biosfera o de la tecnosfera. En otros software, los nodos de la biosfera suelen ser llamados Elementary Flow y los de la tecnosfera, Activities. En brightway, se utiliza el concepto general de 'nodo' a cualquier elemento que este contenido en una base de datos. Este puede ser un flujo elemental o un actividad de la tecnosfera.\n",
    "\n",
    "En este sentido, una nueva base de datos puede ser creada de la siguiente manera:\n"
   ]
  },
  {
   "cell_type": "code",
   "execution_count": null,
   "id": "f7693a97",
   "metadata": {},
   "outputs": [],
   "source": [
    "# Primero, se asigna una instancia de base de datos a una variable\n",
    "# Esta informacion esta en la memoria de la computadora pero no grabado en el disco\n",
    "mi_db = bd.Database('mi_base_de_datos')\n",
    "\n",
    "#Segundo, se registra la base de datos para que sea grabada en el disco\n",
    "mi_db.register()"
   ]
  },
  {
   "cell_type": "markdown",
   "id": "25ba0847",
   "metadata": {},
   "source": [
    "Podemos verificar que ahora existen 2 bases de datos, la biosfera creada por `bw2io` y `mi_base_de_datos`, creada por nosotros."
   ]
  },
  {
   "cell_type": "code",
   "execution_count": null,
   "id": "730d55a4",
   "metadata": {},
   "outputs": [],
   "source": [
    "bd.databases"
   ]
  },
  {
   "cell_type": "markdown",
   "id": "6c50a048",
   "metadata": {},
   "source": [
    "En muchas situaciones, puede que sea necesario realizar una copia de una base de datos. Esto puede realizarse de la siguiente forma:"
   ]
  },
  {
   "cell_type": "code",
   "execution_count": null,
   "id": "0c7c08df",
   "metadata": {},
   "outputs": [],
   "source": [
    "new_database = bd.Database('biosphere3').copy('new_biosphere')"
   ]
  },
  {
   "cell_type": "markdown",
   "id": "388feaf8",
   "metadata": {},
   "source": [
    "Para borrar una base de datos, solo hay que imaginar que `bd.databases` tiene las mismas propiedades que un diccionario de python y utilizar `del`\n"
   ]
  },
  {
   "cell_type": "code",
   "execution_count": null,
   "id": "1b3e1d73",
   "metadata": {},
   "outputs": [],
   "source": [
    "if 'new_biosphere' in bd.databases:\n",
    "    del bd.databases['new_biosphere']"
   ]
  },
  {
   "cell_type": "markdown",
   "id": "c9a4e12a",
   "metadata": {},
   "source": [
    "## Manipular Actividades\n",
    "Una de las funcionalidades de brightway mas importantes es la creacion de actividades (o nodos, en general).\n",
    "Se puede crear una actividad utilizando la funcion `new_activity`, perteneciente a los objetos de base de datos. En este caso, se puede indicar cualquier cantidad de argumentos pero incluyendo SIEMPRE los argumentos `code`, `name`, `unit` y `location`. Estos cuatro argumentos son obligatorios porque es lo minimo requerido para tener actividades unicas. \n"
   ]
  },
  {
   "cell_type": "code",
   "execution_count": null,
   "id": "3c467d50",
   "metadata": {},
   "outputs": [],
   "source": [
    "bd.projects"
   ]
  },
  {
   "cell_type": "code",
   "execution_count": null,
   "id": "fe53968d",
   "metadata": {},
   "outputs": [],
   "source": [
    "bd.databases"
   ]
  },
  {
   "cell_type": "code",
   "execution_count": null,
   "id": "118a2b88",
   "metadata": {},
   "outputs": [],
   "source": [
    "if 'mi_base_de_datos' in bd.databases: # es una buena practica para siempre comenzar en un lienzo en blanco\n",
    "    del bd.databases['mi_base_de_datos']\n",
    "\n"
   ]
  },
  {
   "cell_type": "code",
   "execution_count": null,
   "id": "16710406",
   "metadata": {},
   "outputs": [],
   "source": [
    "db = bd.Database('mi_base_de_datos')\n",
    "db.register()\n",
    "activity_ejemplo = db.new_activity(code='codigo-unico', name='nombre-no-unico', unit='unidad', location='PE')\n",
    "activity_ejemplo.save() # Este paso es SIEMPRE necesario para grabar la informacion en el disco\n",
    "print(list(db))"
   ]
  },
  {
   "cell_type": "markdown",
   "id": "5e54a5da",
   "metadata": {},
   "source": [
    "Esta actividad se encuentra ahora registrada en el disco y puede accederse utilizando su identificar `code` y la funcion `get`. Es importante aclarar que `code` es unico solo para la base de datos."
   ]
  },
  {
   "cell_type": "code",
   "execution_count": null,
   "id": "28a2cfdf",
   "metadata": {},
   "outputs": [],
   "source": [
    "actividad = db.get('codigo-unico')\n",
    "print(actividad)"
   ]
  },
  {
   "cell_type": "markdown",
   "id": "68628073",
   "metadata": {},
   "source": [
    "Informacion mas detallada de esta actividad puede verse con la funcion `as_dict`, que devuelve un diccionary de python."
   ]
  },
  {
   "cell_type": "code",
   "execution_count": null,
   "id": "0687d1af",
   "metadata": {},
   "outputs": [],
   "source": [
    "actividad.as_dict()"
   ]
  },
  {
   "cell_type": "markdown",
   "id": "eb0ab284",
   "metadata": {},
   "source": [
    "En caso deseado, la actividad puede borrarse utilizando la funcion `delete`.\n"
   ]
  },
  {
   "cell_type": "code",
   "execution_count": null,
   "id": "3f2f0e4f",
   "metadata": {},
   "outputs": [],
   "source": [
    "actividad.delete()"
   ]
  },
  {
   "cell_type": "markdown",
   "id": "cc9ab86f",
   "metadata": {},
   "source": [
    "Siguiendo el ejemplo de la bicicleta, podemos ta crear todos los nodos (tecnosfera y biosfera)."
   ]
  },
  {
   "cell_type": "code",
   "execution_count": null,
   "id": "6df6b762",
   "metadata": {
    "lines_to_next_cell": 2
   },
   "outputs": [],
   "source": [
    "data = {\n",
    "    'code': 'bici',\n",
    "    'name': 'produccion bici',\n",
    "    'location': 'PE',\n",
    "    'unit': 'piece'\n",
    "}\n",
    "\n",
    "bike = db.new_activity(**data)\n",
    "bike.save()\n",
    "\n",
    "data = {\n",
    "    'code': 'CF',\n",
    "    'name': 'carbon fibre',\n",
    "    'unit': 'kilogram',\n",
    "    'location': 'CN'\n",
    "}\n",
    "\n",
    "cf = db.new_activity(**data)\n",
    "cf.save()\n",
    "\n",
    "ng = db.new_activity(\n",
    "    name=\"Nat Gas\", \n",
    "    code='ng', \n",
    "    location='NO', \n",
    "    unit='MJ'\n",
    ")\n",
    "\n",
    "ng.save()\n",
    "\n",
    "print(list(db))"
   ]
  },
  {
   "cell_type": "code",
   "execution_count": null,
   "id": "dcdc0591",
   "metadata": {
    "lines_to_next_cell": 2
   },
   "outputs": [],
   "source": [
    "# Creamos un nodo en la biosfera\n",
    "co2 = bd.Database('biosphere3').new_activity(\n",
    "    name=\"Carbon Dioxide\", \n",
    "    code='co2', \n",
    "    categories=('air',),\n",
    "    type='emission',\n",
    ")\n",
    "\n",
    "co2.save()"
   ]
  },
  {
   "cell_type": "code",
   "execution_count": null,
   "id": "cb775974",
   "metadata": {},
   "outputs": [],
   "source": [
    "# # En caso quiera borrar todos los nodos de `db`\n",
    "# co2.delete()\n",
    "# for i in db:\n",
    "    # i.delete()"
   ]
  },
  {
   "cell_type": "markdown",
   "id": "aac09466",
   "metadata": {},
   "source": [
    "Ya contamos con todos los nodos, sin embargo estos estan desconectados.\n",
    "Sin una red conectada, no podemos hacer el computo del ACV. Para esto, tenemos que crear las 'conexiones/interacciones' entre todos los nodos. En brightway, estos se llaman 'exchanges', y pueden ser creados de la siguiente manera con la funcion `new_exchange`:\n"
   ]
  },
  {
   "cell_type": "code",
   "execution_count": null,
   "id": "e496fb62",
   "metadata": {},
   "outputs": [],
   "source": [
    "\n",
    "bike.new_exchange(\n",
    "    amount=2.5, \n",
    "    type='technosphere',\n",
    "    input=cf\n",
    ").save()\n",
    "\n",
    "cf.new_exchange(\n",
    "    amount=237, \n",
    "    type='technosphere',\n",
    "    input=ng,\n",
    ").save()\n",
    "\n",
    "cf.new_exchange(\n",
    "    amount=26.6, \n",
    "    type='biosphere',\n",
    "    input=co2,\n",
    ").save()"
   ]
  },
  {
   "cell_type": "markdown",
   "id": "cd292e32",
   "metadata": {},
   "source": [
    "Podemos ahora crear un metodo nuevo que solo tenga un factor de caracterizacion:"
   ]
  },
  {
   "cell_type": "code",
   "execution_count": null,
   "id": "f207599e",
   "metadata": {},
   "outputs": [],
   "source": [
    "ipcc = bd.Method(('IPCC',)) # Si no existe, lo crea\n",
    "ipcc.write([\n",
    "    (co2.key, {'amount': 1}),\n",
    "])"
   ]
  },
  {
   "cell_type": "markdown",
   "id": "80be72f6",
   "metadata": {},
   "source": [
    "El paquete `bw2calc` contiene las herramientas para realizar los calculos, como la clase LCA:"
   ]
  },
  {
   "cell_type": "code",
   "execution_count": null,
   "id": "b48fe453",
   "metadata": {},
   "outputs": [],
   "source": [
    "lca = bc.LCA({bike:1},method=('IPCC',)) # Instancia la clase\n",
    "lca.lci() # calcula el inventario de ciclo de vida\n",
    "lca.lcia() # Calcula los impactos \n",
    "print(\"El impacto es: \", lca.score)"
   ]
  },
  {
   "cell_type": "markdown",
   "id": "f3876970",
   "metadata": {
    "lines_to_next_cell": 2
   },
   "source": [
    "🚧 **Manos a la obra**:\n",
    "- Se ha descubierto que la produccion de fibra de carbono emite 0.23 kg de monoxido dinitrogeno al aire $N_{2}O$ por cada kilogramo de fibra de carbono producido.\n",
    "- El factor de caracterizacion del $N_{2}O$ es 276.9\n",
    "- En cuanto ha aumentado el impacto ?  "
   ]
  },
  {
   "cell_type": "code",
   "execution_count": null,
   "id": "1d7c1588",
   "metadata": {},
   "outputs": [],
   "source": [
    "# Creamos un nodo en la biosfera\n",
    "n2o = bd.Database('biosphere3').new_activity(\n",
    "    name=\"Nitrous oxide\", \n",
    "    code='n2o', \n",
    "    categories=('air',),\n",
    "    type='emission',\n",
    ")\n",
    "\n",
    "n2o.save()\n",
    "\n",
    "cf.new_exchange(\n",
    "    amount=0.23, \n",
    "    type='biosphere',\n",
    "    input=n2o,\n",
    ").save()"
   ]
  },
  {
   "cell_type": "code",
   "execution_count": null,
   "id": "086e4e58",
   "metadata": {},
   "outputs": [],
   "source": [
    "ipcc = bd.Method(('IPCC',))\n",
    "factors = ipcc.load()\n",
    "factors.append(((n2o.key),{'amount': 276.9}))\n",
    "ipcc.write(factors)"
   ]
  },
  {
   "cell_type": "code",
   "execution_count": null,
   "id": "5b408888",
   "metadata": {},
   "outputs": [],
   "source": [
    "ipcc.load()"
   ]
  },
  {
   "cell_type": "code",
   "execution_count": null,
   "id": "5046e261",
   "metadata": {},
   "outputs": [],
   "source": [
    "lca_nuevo = bc.LCA({bike:1},method=('IPCC',)) # Instancia la clase\n",
    "lca_nuevo.lci() # calcula el inventario de ciclo de vida\n",
    "lca_nuevo.lcia() # Calcula los impactos \n",
    "print(\"El impacto ahora es: \", lca_nuevo.score)\n",
    "\n",
    "print(f\"El impacto aumento en: {(lca_nuevo.score-lca.score)*100/lca.score} %\")"
   ]
  },
  {
   "cell_type": "code",
   "execution_count": null,
   "id": "aa8edbba",
   "metadata": {},
   "outputs": [],
   "source": []
  },
  {
   "cell_type": "markdown",
   "id": "9eb72e51",
   "metadata": {},
   "source": [
    "## Exportar bases de datos y proyectos\n",
    "En la seccion anterior aprendimos a crear bases de datos de manera automatica ('biosphere3') y de manera manual ('mi_base_de_datos'). \n",
    "En situaciones convencionales, es normal que necesitemos compartir nuestros modelos de inventario, ya sea durante el trabajo colaborativo o para reportar nuestro trabajo a revisores, colegas y cualquier por razones de transparencia.\n",
    "Para esto, bw2io ofrece una serie de herramientas que pueden usarse para exportar los modelos en diferentes formatos. \n",
    "Por un tema de popularidad, en esta seccion nos enfocaremos en 3 herramientas:\n",
    "- Exportar una base de datos a excel\n",
    "- Exportar una base de datos a csv (dataframe)\n",
    "- Exportar un proyecto como archivo comprimido de respaldo."
   ]
  },
  {
   "cell_type": "markdown",
   "id": "4557257f",
   "metadata": {},
   "source": [
    "###  Exportar a excel\n",
    "Brightway utiliza un template para leer y exportar bases de datos en formato excel. Es conveniente para distribuir versiones finales del inventario. No es muy bueno almacenando informacion anidad. No permite 'trackear' los cambios debido a que *.xlsx no es un formato de texto."
   ]
  },
  {
   "cell_type": "code",
   "execution_count": null,
   "id": "63afd47b",
   "metadata": {},
   "outputs": [],
   "source": [
    "import bw2data as bd\n",
    "import bw2io as bi\n",
    "import bw2calc as bc\n",
    "from rich import print\n",
    "# Primero que nada, verifiquen que esten en el proyecto adecuado\n",
    "bd.projects.current"
   ]
  },
  {
   "cell_type": "code",
   "execution_count": null,
   "id": "c3a61f34",
   "metadata": {},
   "outputs": [],
   "source": [
    "# Si no es el proyecto adecuado, ya saben que hacer\n",
    "bd.projects.set_current('example_project')"
   ]
  },
  {
   "cell_type": "code",
   "execution_count": null,
   "id": "d0b043ca",
   "metadata": {},
   "outputs": [],
   "source": [
    " bi.export.excel.write_lci_excel??"
   ]
  },
  {
   "cell_type": "code",
   "execution_count": null,
   "id": "e11f3bfd",
   "metadata": {},
   "outputs": [],
   "source": [
    "# dirpath es el argumento que controla en que ubicacion se exportara el archivo. \n",
    "# En sistemas operativos tipo UNIX (Linux, MacOS), '.' significa 'aqui'.\n",
    "directorio = bi.export.excel.write_lci_excel(database_name='mi_base_de_datos',dirpath='.')"
   ]
  },
  {
   "cell_type": "markdown",
   "id": "fa41b133",
   "metadata": {},
   "source": [
    "###  Exportar a csv\n",
    "Brightway permite convertir los nodos (actividades) y aristas (exchanges) en DataFrames de [pandas](https://pandas.pydata.org/).\n",
    "Un DataFrame es un estructura de datos tabular que es muy usada en analisis y ciencia de datos, y puede ser exportada directamente como archivo CSV.\n"
   ]
  },
  {
   "cell_type": "code",
   "execution_count": null,
   "id": "b65ddc8e",
   "metadata": {},
   "outputs": [],
   "source": [
    "db.nodes_to_dataframe() # Solo los nodos"
   ]
  },
  {
   "cell_type": "code",
   "execution_count": null,
   "id": "0432f155",
   "metadata": {},
   "outputs": [],
   "source": [
    "db.edges_to_dataframe() # Solo aristas"
   ]
  },
  {
   "cell_type": "code",
   "execution_count": null,
   "id": "0450f239",
   "metadata": {},
   "outputs": [],
   "source": [
    "# La funcion `to_csv` es propia de pandas, no de brightway\n",
    "db.nodes_to_dataframe().to_csv('mis-nodos.csv')\n",
    "db.edges_to_dataframe().to_csv('mis-aristas.csv')"
   ]
  },
  {
   "cell_type": "markdown",
   "id": "b250893a",
   "metadata": {},
   "source": [
    "###  Exportar proyecto completo como backup\n",
    "La ultima opcion mas comun es la de exportar el proyecto completo en forma de archivo comprimido. Esto suele hacer cuando se desea guardar copias de todas las bases de datos de un proyecto. La desventaja es que el archivo resultado puede ser pesado y no es adecuado si no se tienen los permisos para compartir bases de datos comerciales."
   ]
  },
  {
   "cell_type": "code",
   "execution_count": null,
   "id": "b94b9d5f",
   "metadata": {},
   "outputs": [],
   "source": [
    "bi.backup_project_directory('example_project',dir_backup='.')"
   ]
  },
  {
   "cell_type": "markdown",
   "id": "c6ace8fb",
   "metadata": {},
   "source": [
    "## Importar bases de datos privadas\n",
    "Esta seccion es una continuacion natural de la anterior ya que simplemente aprenderemos a importar los archivos que fueron exportados previamente. Asumiremos, nuevamente, que excel, csv, y backup.tar.gz son los unicos formatos que nos interesan.\n",
    "\n",
    "### Importar un archivo de excel"
   ]
  },
  {
   "cell_type": "code",
   "execution_count": null,
   "id": "0af4f65f",
   "metadata": {},
   "outputs": [],
   "source": [
    "importador = bi.ExcelImporter('lci-mi_base_de_datos.xlsx')\n",
    "importador.apply_strategies()\n",
    "importador.match_database(fields=('name', 'code', 'unit', 'location'))  # Conecta nodos del archivo excel\n",
    "importador.match_database('biosphere3', fields=('name','unit','categories')) # Conecta nodos con la base de datos biosphere3\n",
    "importador.statistics()\n",
    "importador.write_excel()"
   ]
  },
  {
   "cell_type": "code",
   "execution_count": null,
   "id": "d026c6d4",
   "metadata": {},
   "outputs": [],
   "source": [
    "importador.match_database('biosphere3', fields=('name','unit','categories')) # Conecta nodos con la base de datos biosphere3\n",
    "importador.statistics()"
   ]
  },
  {
   "cell_type": "code",
   "execution_count": null,
   "id": "1c1defbb",
   "metadata": {},
   "outputs": [],
   "source": [
    "importador.write_database()\n",
    "bd.databases # La base de datos se ha importado correctamente"
   ]
  },
  {
   "cell_type": "code",
   "execution_count": null,
   "id": "5f38c2bd",
   "metadata": {},
   "outputs": [],
   "source": []
  },
  {
   "cell_type": "markdown",
   "id": "c6d93488",
   "metadata": {},
   "source": [
    "### Repliquemos los resultados\n",
    "Ahora podemos 'simular' un ejercicio de reproducibilidad, y realizar el calculo de los impactos una vez mas."
   ]
  },
  {
   "cell_type": "code",
   "execution_count": null,
   "id": "d4025204",
   "metadata": {},
   "outputs": [],
   "source": [
    "db = bd.Database('mi_base_de_datos')\n",
    "bicicleta = db.get('bici') # seleccionamos la actividad que tiene codigo 'bici', la definimos en la seccion anterior"
   ]
  },
  {
   "cell_type": "code",
   "execution_count": null,
   "id": "071402c7",
   "metadata": {},
   "outputs": [],
   "source": [
    "lca = bc.LCA({bicicleta:1},method=('IPCC',)) # Instancia la clase\n",
    "lca.lci() # calcula el inventario de ciclo de vida\n",
    "lca.lcia() # Calcula los impactos \n",
    "print(\"El impacto es: \", lca.score) # Es el mismo 🎉"
   ]
  },
  {
   "cell_type": "markdown",
   "id": "d7268607",
   "metadata": {},
   "source": [
    "🚧 **Manos a la obra**:\n",
    "- Un colega ha encontrado un error en tu modelo. La cantidad de Gas Natural consumida por la fibra de carbono no es 237, sino 23.7\n",
    "- Descarga el archivo de excel `lci-mi_base_de_datos.xlsx` a tu computadora personal y modifica el valor manualmente.\n",
    "- Importa el archivo excel modificado y vuelve a calcular el ACV. Cuanto ha cambiado el impacto final?"
   ]
  },
  {
   "cell_type": "code",
   "execution_count": null,
   "id": "d74263ff",
   "metadata": {},
   "outputs": [],
   "source": [
    "# Tu codigo aqui"
   ]
  }
 ],
 "metadata": {
  "jupytext": {
   "cell_metadata_filter": "-all",
   "main_language": "python",
   "notebook_metadata_filter": "-all"
  }
 },
 "nbformat": 4,
 "nbformat_minor": 5
}
