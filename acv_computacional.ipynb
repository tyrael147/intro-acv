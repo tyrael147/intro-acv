{
 "cells": [
  {
   "cell_type": "markdown",
   "id": "732bb830",
   "metadata": {
    "lines_to_next_cell": 0
   },
   "source": [
    "# COMENCEMOS!\n"
   ]
  },
  {
   "cell_type": "markdown",
   "id": "8138a4b6",
   "metadata": {},
   "source": [
    "# Introduccion\n",
    "\n",
    "<div class=\"alert alert-block alert-warning\">\n",
    "⚠️ Este curso no pretende ser intensivo ni rigurozo en lo que refiere al ACV como metodologia y se parte del supuesto que los conceptos son conocidos por los estudiantes. Por esta razon, es posible que algunas definiciones sean genericas ya que solo se utilizan para dar contexto a las explicaciones. \n",
    "</div>\n"
   ]
  },
  {
   "cell_type": "markdown",
   "id": "839fa7bc",
   "metadata": {
    "lines_to_next_cell": 0
   },
   "source": [
    "En el ACV, buscamos entender los impactos ambientales en todo el ciclo de vida de un producto o servicio. Sin embargo, para poder estimar este impacto, es importante primero entender como es el sistema en el producto o servicio opera. Dicho sistema se representa con un modelo de cadena de suministro que contiene las multiples etapas del ciclo de vida del producto. Imaginemos que deseamos calcular el impacto de ciclo de vida de la produccion de una bicicleta en un sistema extremadamente reducido. En este caso, podemos interpretar el grafo (coleccion de nodos y aristas) como: \n",
    "> *Para producir 1 bicicleta, se necesita 2.5kg de fibra de carbono, y a su vez, para producir 1 kg de fibra de carbono se requiere 237 MJ de gas natural y se emitiran 26.6kg de CO2 en el proceso.*\n",
    "\n",
    "![image info](./media/simple-graph.png)\n",
    "\n",
    "En la figura, los nodos circulares representan actividades que ocurren en la tecnosfera, mientras que los nodos rectangulares representan elementos de la biosfera. Como mencionamos anteriormente, el primer paso es saber cuantas unidades de cada producto de la tecnosfera se produciran a causa de la demanda de bicicletas, y, en consecuencia, cuantas emisiones se genraron en el proceso. Esta informacion da paso a finalmente estimar los impactos totales en todo el ciclo de vida. \n",
    "\n",
    "La manera mas comun para afrontar este problema de forma matematica es mediante un problema de algebra lineal, y esto esta claramente presentado y discutido en [este libro](https://link.springer.com/book/10.1007/978-94-015-9900-9). En este enfoque, la tecnosfera se representa como una matriz en la que cada columna contiene la 'receta' para producir una unidad de una determinado producto (matriz $A_{productos \\times actividades}$). La biosfera se presenta como otra matriz de dimensiones $B_{flujos \\times actividades}$, y la demanda (unidad funcional) se presenta como un vector $f_{productos}$. Adicional a esto, una matriz $Q_{impactos \\times flujos}$ se introduce para convertir los flujos en impactos a traves de factores de caracterizacion.\n",
    "En esta representacion, los valores positivos indican 'salida', mientras que los valores negativos indican 'consumo'.\n",
    "\n",
    "$$ A = \\begin{bmatrix} 1 & 0 & 0  \\\\\\ -2.5 & 1 & 0 \\\\\\ 0 & -237 & 1  \\end{bmatrix}$$\n",
    "\n",
    "$$ B = \\begin{bmatrix} 0 & 26.6 & 0  \\end{bmatrix}$$\n",
    "\n",
    "$$ y = \\begin{bmatrix} 0 \\\\\\ 1 \\\\\\ 0 \\end{bmatrix}$$ \n",
    "\n",
    "$$ Q = \\begin{bmatrix} 1 \\end{bmatrix}$$\n",
    "\n",
    "El problema ahora es obtener un vector de abastecimiento $s_{productos}$, que representa los flujos en toda la tecnosfera a causa de la demanda de $f$. Por suerte este problema fue resuelto en el campo del Input-Output hace muchos anos y solo hace falta resolver la siguiente ecuacion:\n",
    "\n",
    "$$ s = A^{-1}f $$\n",
    "\n",
    "Un vez obtenido $s$, podremos saber todos los flujos ambientales obteniendo $ g = Bs $ y todos los impactos resolviendo $h =Qg$\n",
    "\n",
    "Este sistema de ecuaciones puede resolverse fácilmente utilizando cualquier paquete o\n",
    "libreria que permita invertir la matriz $A$.\n",
    "Para demostrar este ejemplo, utilizaremos el paquete [numpy](https://numpy.org/), que \n",
    "permite manipular arreglos multidimensionales de manera rapida y eficiente.\n",
    "Como podran ver mas adelante, brightway ha sido construido utilizando numpy como motor\n",
    "de calculo.\n"
   ]
  },
  {
   "cell_type": "code",
   "execution_count": null,
   "id": "390e8755",
   "metadata": {
    "lines_to_next_cell": 0
   },
   "outputs": [],
   "source": [
    "# Importamos las librerias numpy and scipy. \n",
    "# OJO: Aun no utilizamos brightway, este es tan solo un ejemplo.\n",
    "from rich import print # Solo para mejorar la grafica de las impresiones\n",
    "import numpy as np\n",
    "import scipy as sp\n",
    "\n",
    "A = np.array([ [1, 0,0 ], [-2.5,1,0] , [0,-237,1]])\n",
    "B = np.array([[0,26.6,0]])\n",
    "f = np.array([1,0,0])\n",
    "Q = np.array([1])\n",
    "\n",
    "# Verificamos\n",
    "print(f\"Las dimensiones de A son: {A.shape}\")\n",
    "print(\"A: \\n\", A)\n",
    "\n",
    "print(f\"Las dimensiones del vector f son: {f.shape}\")\n",
    "print(\"f: \\n\", f)"
   ]
  },
  {
   "cell_type": "code",
   "execution_count": null,
   "id": "15662255",
   "metadata": {
    "lines_to_next_cell": 0
   },
   "outputs": [],
   "source": [
    "\n",
    "A_inv = np.linalg.inv(A) # np.lingalg.inv permite invertir matrices \n",
    "s = A_inv.dot(f) \n",
    "g = B.dot(s)\n",
    "\n",
    "print(\"s: \", s)\n",
    "print(\"g: \", g)"
   ]
  },
  {
   "cell_type": "markdown",
   "id": "c80e70dc",
   "metadata": {
    "lines_to_next_cell": 0
   },
   "source": [
    "Con los vectores $s$, y $g$ calculados, es posible obtener el vector $h$ que representa el vector de impactos ambientales.\n",
    "Podriamos decir que este es el `final` del flujo metodologico en el analisis de ciclo de vida."
   ]
  },
  {
   "cell_type": "code",
   "execution_count": null,
   "id": "3b338b48",
   "metadata": {},
   "outputs": [],
   "source": [
    "\n",
    "h = Q.dot(g) \n",
    "print(\"h: \", h)"
   ]
  }
 ],
 "metadata": {
  "jupytext": {
   "cell_metadata_filter": "-all",
   "main_language": "python",
   "notebook_metadata_filter": "-all"
  }
 },
 "nbformat": 4,
 "nbformat_minor": 5
}
